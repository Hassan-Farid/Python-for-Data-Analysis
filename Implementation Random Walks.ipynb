{
 "cells": [
  {
   "cell_type": "code",
   "execution_count": 2,
   "metadata": {},
   "outputs": [],
   "source": [
    "#Implementing Numpy Vectorization and Functions to find information regarding Random Walks\n",
    "\n",
    "import numpy as np\n",
    "import numpy.random\n",
    "import numpy.linalg\n",
    "import matplotlib.pyplot as plt\n"
   ]
  },
  {
   "cell_type": "code",
   "execution_count": 20,
   "metadata": {},
   "outputs": [
    {
     "data": {
      "text/plain": [
       "array([0, 1, 0, 0, 1, 0, 0, 1, 0, 1, 1, 0, 0, 1, 1, 1, 0, 0, 0, 1, 0, 1,\n",
       "       1, 0, 0, 0, 0, 0, 0, 0, 0, 1, 1, 0, 1, 0, 0, 0, 1, 1, 1, 0, 0, 1,\n",
       "       1, 1, 0, 0, 0, 0, 1, 0, 1, 0, 1, 0, 0, 0, 1, 0, 0, 1, 1, 1, 1, 0,\n",
       "       1, 1, 0, 1, 1, 1, 1, 0, 0, 1, 1, 1, 0, 1, 0, 1, 0, 0, 1, 1, 1, 0,\n",
       "       1, 0, 0, 1, 1, 1, 1, 0, 0, 0, 1, 1, 0, 1, 1, 1, 0, 0, 1, 1, 0, 1,\n",
       "       1, 0, 1, 1, 1, 0, 0, 1, 0, 1, 1, 0, 0, 0, 0, 1, 0, 0, 0, 1, 0, 1,\n",
       "       0, 0, 0, 0, 1, 0, 0, 0, 0, 1, 0, 1, 0, 0, 1, 0, 0, 0, 0, 1, 1, 0,\n",
       "       0, 1, 1, 0, 1, 0, 0, 1, 1, 0, 1, 0, 1, 0, 0, 0, 1, 0, 1, 0, 1, 0,\n",
       "       1, 0, 1, 0, 0, 0, 0, 1, 0, 0, 0, 0, 0, 0, 0, 0, 1, 1, 0, 0, 0, 0,\n",
       "       0, 1, 0, 0, 0, 0, 1, 1, 0, 1, 1, 0, 0, 1, 0, 1, 0, 0, 0, 1, 0, 1,\n",
       "       1, 1, 1, 0, 0, 0, 1, 0, 0, 1, 0, 0, 0, 0, 0, 0, 0, 0, 0, 1, 0, 1,\n",
       "       0, 1, 0, 0, 1, 1, 0, 0, 1, 1, 0, 0, 1, 0, 1, 0, 1, 0, 0, 0, 0, 0,\n",
       "       1, 0, 0, 0, 1, 1, 1, 1, 0, 0, 1, 1, 0, 1, 1, 0, 0, 0, 1, 0, 0, 1,\n",
       "       1, 1, 1, 1, 0, 0, 0, 0, 1, 1, 1, 0, 0, 0, 0, 1, 0, 1, 0, 0, 0, 0,\n",
       "       0, 1, 1, 1, 1, 0, 1, 1, 0, 0, 0, 1, 0, 0, 1, 0, 0, 1, 0, 0, 0, 0,\n",
       "       1, 0, 1, 1, 0, 0, 0, 0, 0, 0, 0, 0, 0, 0, 1, 0, 1, 0, 1, 1, 0, 0,\n",
       "       0, 0, 1, 0, 0, 0, 1, 0, 0, 0, 1, 0, 0, 1, 0, 0, 0, 0, 1, 1, 0, 0,\n",
       "       1, 1, 1, 0, 1, 1, 1, 0, 1, 1, 0, 0, 1, 0, 0, 1, 1, 1, 1, 1, 0, 0,\n",
       "       0, 0, 1, 0, 1, 1, 1, 1, 0, 0, 0, 0, 1, 1, 1, 1, 1, 1, 0, 1, 1, 0,\n",
       "       1, 1, 0, 1, 1, 0, 0, 0, 0, 1, 1, 0, 1, 1, 0, 1, 1, 0, 1, 1, 0, 0,\n",
       "       0, 1, 1, 0, 1, 0, 1, 0, 0, 1, 1, 0, 0, 0, 0, 0, 0, 0, 0, 0, 0, 1,\n",
       "       0, 0, 0, 0, 1, 1, 1, 1, 0, 0, 0, 1, 1, 0, 1, 1, 0, 1, 0, 0, 1, 0,\n",
       "       0, 1, 1, 1, 1, 0, 0, 0, 1, 0, 0, 1, 0, 0, 0, 0, 0, 0, 0, 1, 1, 0,\n",
       "       0, 1, 0, 1, 0, 0, 0, 0, 1, 1, 1, 0, 0, 1, 0, 0, 0, 1, 1, 0, 1, 0,\n",
       "       1, 1, 0, 1, 0, 0, 1, 1, 0, 0, 1, 1, 1, 1, 0, 1, 0, 0, 1, 1, 1, 1,\n",
       "       1, 0, 1, 1, 1, 0, 1, 0, 0, 1, 0, 1, 1, 1, 1, 0, 0, 0, 1, 1, 0, 0,\n",
       "       1, 0, 0, 0, 0, 1, 1, 1, 1, 1, 0, 0, 1, 0, 0, 1, 1, 1, 0, 0, 0, 1,\n",
       "       1, 1, 1, 1, 0, 0, 0, 0, 1, 0, 1, 0, 1, 0, 0, 0, 1, 1, 1, 0, 1, 1,\n",
       "       0, 1, 0, 1, 0, 1, 1, 0, 0, 1, 1, 1, 1, 0, 1, 1, 0, 1, 1, 1, 0, 0,\n",
       "       1, 0, 1, 1, 1, 1, 0, 0, 1, 0, 1, 1, 1, 1, 1, 1, 0, 1, 0, 1, 1, 1,\n",
       "       0, 0, 0, 0, 0, 1, 0, 1, 0, 0, 0, 1, 1, 1, 0, 1, 1, 0, 0, 0, 0, 1,\n",
       "       0, 0, 1, 1, 1, 1, 1, 0, 1, 1, 1, 1, 1, 1, 0, 1, 0, 1, 0, 1, 1, 1,\n",
       "       0, 0, 1, 1, 0, 1, 1, 1, 0, 0, 0, 0, 1, 1, 1, 0, 1, 1, 1, 1, 1, 0,\n",
       "       0, 0, 0, 1, 1, 0, 0, 1, 0, 1, 0, 0, 1, 0, 0, 1, 1, 0, 0, 1, 0, 1,\n",
       "       0, 1, 0, 0, 0, 0, 0, 0, 1, 0, 0, 0, 1, 1, 0, 1, 0, 1, 1, 1, 0, 1,\n",
       "       1, 1, 1, 1, 0, 0, 1, 1, 1, 0, 1, 0, 1, 1, 1, 0, 0, 0, 1, 1, 1, 1,\n",
       "       1, 1, 1, 1, 1, 1, 0, 0, 1, 0, 1, 1, 1, 0, 0, 1, 1, 1, 1, 0, 1, 0,\n",
       "       0, 1, 0, 1, 1, 1, 1, 1, 0, 0, 0, 0, 1, 1, 1, 0, 0, 0, 0, 1, 1, 0,\n",
       "       1, 0, 0, 1, 1, 1, 1, 0, 0, 0, 1, 0, 0, 0, 0, 1, 0, 0, 1, 1, 1, 0,\n",
       "       0, 1, 1, 1, 1, 1, 0, 0, 1, 0, 0, 1, 0, 1, 1, 1, 0, 0, 1, 0, 1, 1,\n",
       "       1, 1, 1, 1, 0, 0, 1, 1, 0, 1, 1, 0, 1, 1, 0, 1, 1, 0, 1, 1, 0, 1,\n",
       "       0, 0, 0, 1, 1, 1, 0, 1, 1, 1, 1, 0, 0, 0, 0, 1, 1, 1, 0, 0, 1, 1,\n",
       "       1, 0, 1, 1, 1, 0, 0, 1, 0, 1, 1, 1, 1, 1, 1, 0, 0, 0, 0, 0, 1, 0,\n",
       "       0, 0, 0, 1, 1, 0, 1, 1, 0, 1, 0, 0, 0, 0, 1, 1, 0, 0, 0, 1, 0, 0,\n",
       "       1, 0, 0, 1, 1, 0, 0, 1, 0, 1, 1, 1, 0, 0, 1, 0, 1, 1, 0, 0, 0, 1,\n",
       "       0, 1, 0, 0, 1, 0, 1, 1, 0, 1])"
      ]
     },
     "execution_count": 20,
     "metadata": {},
     "output_type": "execute_result"
    }
   ],
   "source": [
    "#Generating 1000 random steps\n",
    "nsteps = 1000\n",
    "draws = np.random.randint(0,2,size=nsteps)\n",
    "draws"
   ]
  },
  {
   "cell_type": "code",
   "execution_count": 21,
   "metadata": {},
   "outputs": [
    {
     "data": {
      "text/plain": [
       "array([-1,  1, -1, -1,  1, -1, -1,  1, -1,  1,  1, -1, -1,  1,  1,  1, -1,\n",
       "       -1, -1,  1, -1,  1,  1, -1, -1, -1, -1, -1, -1, -1, -1,  1,  1, -1,\n",
       "        1, -1, -1, -1,  1,  1,  1, -1, -1,  1,  1,  1, -1, -1, -1, -1,  1,\n",
       "       -1,  1, -1,  1, -1, -1, -1,  1, -1, -1,  1,  1,  1,  1, -1,  1,  1,\n",
       "       -1,  1,  1,  1,  1, -1, -1,  1,  1,  1, -1,  1, -1,  1, -1, -1,  1,\n",
       "        1,  1, -1,  1, -1, -1,  1,  1,  1,  1, -1, -1, -1,  1,  1, -1,  1,\n",
       "        1,  1, -1, -1,  1,  1, -1,  1,  1, -1,  1,  1,  1, -1, -1,  1, -1,\n",
       "        1,  1, -1, -1, -1, -1,  1, -1, -1, -1,  1, -1,  1, -1, -1, -1, -1,\n",
       "        1, -1, -1, -1, -1,  1, -1,  1, -1, -1,  1, -1, -1, -1, -1,  1,  1,\n",
       "       -1, -1,  1,  1, -1,  1, -1, -1,  1,  1, -1,  1, -1,  1, -1, -1, -1,\n",
       "        1, -1,  1, -1,  1, -1,  1, -1,  1, -1, -1, -1, -1,  1, -1, -1, -1,\n",
       "       -1, -1, -1, -1, -1,  1,  1, -1, -1, -1, -1, -1,  1, -1, -1, -1, -1,\n",
       "        1,  1, -1,  1,  1, -1, -1,  1, -1,  1, -1, -1, -1,  1, -1,  1,  1,\n",
       "        1,  1, -1, -1, -1,  1, -1, -1,  1, -1, -1, -1, -1, -1, -1, -1, -1,\n",
       "       -1,  1, -1,  1, -1,  1, -1, -1,  1,  1, -1, -1,  1,  1, -1, -1,  1,\n",
       "       -1,  1, -1,  1, -1, -1, -1, -1, -1,  1, -1, -1, -1,  1,  1,  1,  1,\n",
       "       -1, -1,  1,  1, -1,  1,  1, -1, -1, -1,  1, -1, -1,  1,  1,  1,  1,\n",
       "        1, -1, -1, -1, -1,  1,  1,  1, -1, -1, -1, -1,  1, -1,  1, -1, -1,\n",
       "       -1, -1, -1,  1,  1,  1,  1, -1,  1,  1, -1, -1, -1,  1, -1, -1,  1,\n",
       "       -1, -1,  1, -1, -1, -1, -1,  1, -1,  1,  1, -1, -1, -1, -1, -1, -1,\n",
       "       -1, -1, -1, -1,  1, -1,  1, -1,  1,  1, -1, -1, -1, -1,  1, -1, -1,\n",
       "       -1,  1, -1, -1, -1,  1, -1, -1,  1, -1, -1, -1, -1,  1,  1, -1, -1,\n",
       "        1,  1,  1, -1,  1,  1,  1, -1,  1,  1, -1, -1,  1, -1, -1,  1,  1,\n",
       "        1,  1,  1, -1, -1, -1, -1,  1, -1,  1,  1,  1,  1, -1, -1, -1, -1,\n",
       "        1,  1,  1,  1,  1,  1, -1,  1,  1, -1,  1,  1, -1,  1,  1, -1, -1,\n",
       "       -1, -1,  1,  1, -1,  1,  1, -1,  1,  1, -1,  1,  1, -1, -1, -1,  1,\n",
       "        1, -1,  1, -1,  1, -1, -1,  1,  1, -1, -1, -1, -1, -1, -1, -1, -1,\n",
       "       -1, -1,  1, -1, -1, -1, -1,  1,  1,  1,  1, -1, -1, -1,  1,  1, -1,\n",
       "        1,  1, -1,  1, -1, -1,  1, -1, -1,  1,  1,  1,  1, -1, -1, -1,  1,\n",
       "       -1, -1,  1, -1, -1, -1, -1, -1, -1, -1,  1,  1, -1, -1,  1, -1,  1,\n",
       "       -1, -1, -1, -1,  1,  1,  1, -1, -1,  1, -1, -1, -1,  1,  1, -1,  1,\n",
       "       -1,  1,  1, -1,  1, -1, -1,  1,  1, -1, -1,  1,  1,  1,  1, -1,  1,\n",
       "       -1, -1,  1,  1,  1,  1,  1, -1,  1,  1,  1, -1,  1, -1, -1,  1, -1,\n",
       "        1,  1,  1,  1, -1, -1, -1,  1,  1, -1, -1,  1, -1, -1, -1, -1,  1,\n",
       "        1,  1,  1,  1, -1, -1,  1, -1, -1,  1,  1,  1, -1, -1, -1,  1,  1,\n",
       "        1,  1,  1, -1, -1, -1, -1,  1, -1,  1, -1,  1, -1, -1, -1,  1,  1,\n",
       "        1, -1,  1,  1, -1,  1, -1,  1, -1,  1,  1, -1, -1,  1,  1,  1,  1,\n",
       "       -1,  1,  1, -1,  1,  1,  1, -1, -1,  1, -1,  1,  1,  1,  1, -1, -1,\n",
       "        1, -1,  1,  1,  1,  1,  1,  1, -1,  1, -1,  1,  1,  1, -1, -1, -1,\n",
       "       -1, -1,  1, -1,  1, -1, -1, -1,  1,  1,  1, -1,  1,  1, -1, -1, -1,\n",
       "       -1,  1, -1, -1,  1,  1,  1,  1,  1, -1,  1,  1,  1,  1,  1,  1, -1,\n",
       "        1, -1,  1, -1,  1,  1,  1, -1, -1,  1,  1, -1,  1,  1,  1, -1, -1,\n",
       "       -1, -1,  1,  1,  1, -1,  1,  1,  1,  1,  1, -1, -1, -1, -1,  1,  1,\n",
       "       -1, -1,  1, -1,  1, -1, -1,  1, -1, -1,  1,  1, -1, -1,  1, -1,  1,\n",
       "       -1,  1, -1, -1, -1, -1, -1, -1,  1, -1, -1, -1,  1,  1, -1,  1, -1,\n",
       "        1,  1,  1, -1,  1,  1,  1,  1,  1, -1, -1,  1,  1,  1, -1,  1, -1,\n",
       "        1,  1,  1, -1, -1, -1,  1,  1,  1,  1,  1,  1,  1,  1,  1,  1, -1,\n",
       "       -1,  1, -1,  1,  1,  1, -1, -1,  1,  1,  1,  1, -1,  1, -1, -1,  1,\n",
       "       -1,  1,  1,  1,  1,  1, -1, -1, -1, -1,  1,  1,  1, -1, -1, -1, -1,\n",
       "        1,  1, -1,  1, -1, -1,  1,  1,  1,  1, -1, -1, -1,  1, -1, -1, -1,\n",
       "       -1,  1, -1, -1,  1,  1,  1, -1, -1,  1,  1,  1,  1,  1, -1, -1,  1,\n",
       "       -1, -1,  1, -1,  1,  1,  1, -1, -1,  1, -1,  1,  1,  1,  1,  1,  1,\n",
       "       -1, -1,  1,  1, -1,  1,  1, -1,  1,  1, -1,  1,  1, -1,  1,  1, -1,\n",
       "        1, -1, -1, -1,  1,  1,  1, -1,  1,  1,  1,  1, -1, -1, -1, -1,  1,\n",
       "        1,  1, -1, -1,  1,  1,  1, -1,  1,  1,  1, -1, -1,  1, -1,  1,  1,\n",
       "        1,  1,  1,  1, -1, -1, -1, -1, -1,  1, -1, -1, -1, -1,  1,  1, -1,\n",
       "        1,  1, -1,  1, -1, -1, -1, -1,  1,  1, -1, -1, -1,  1, -1, -1,  1,\n",
       "       -1, -1,  1,  1, -1, -1,  1, -1,  1,  1,  1, -1, -1,  1, -1,  1,  1,\n",
       "       -1, -1, -1,  1, -1,  1, -1, -1,  1, -1,  1,  1, -1,  1])"
      ]
     },
     "execution_count": 21,
     "metadata": {},
     "output_type": "execute_result"
    }
   ],
   "source": [
    "#Generating increment step for draws > 0 and decrement step for draws < 0\n",
    "steps = np.where(draws > 0, 1, -1)\n",
    "steps"
   ]
  },
  {
   "cell_type": "code",
   "execution_count": 22,
   "metadata": {},
   "outputs": [
    {
     "data": {
      "text/plain": [
       "array([ -1,   0,  -1,  -2,  -1,  -2,  -3,  -2,  -3,  -2,  -1,  -2,  -3,\n",
       "        -2,  -1,   0,  -1,  -2,  -3,  -2,  -3,  -2,  -1,  -2,  -3,  -4,\n",
       "        -5,  -6,  -7,  -8,  -9,  -8,  -7,  -8,  -7,  -8,  -9, -10,  -9,\n",
       "        -8,  -7,  -8,  -9,  -8,  -7,  -6,  -7,  -8,  -9, -10,  -9, -10,\n",
       "        -9, -10,  -9, -10, -11, -12, -11, -12, -13, -12, -11, -10,  -9,\n",
       "       -10,  -9,  -8,  -9,  -8,  -7,  -6,  -5,  -6,  -7,  -6,  -5,  -4,\n",
       "        -5,  -4,  -5,  -4,  -5,  -6,  -5,  -4,  -3,  -4,  -3,  -4,  -5,\n",
       "        -4,  -3,  -2,  -1,  -2,  -3,  -4,  -3,  -2,  -3,  -2,  -1,   0,\n",
       "        -1,  -2,  -1,   0,  -1,   0,   1,   0,   1,   2,   3,   2,   1,\n",
       "         2,   1,   2,   3,   2,   1,   0,  -1,   0,  -1,  -2,  -3,  -2,\n",
       "        -3,  -2,  -3,  -4,  -5,  -6,  -5,  -6,  -7,  -8,  -9,  -8,  -9,\n",
       "        -8,  -9, -10,  -9, -10, -11, -12, -13, -12, -11, -12, -13, -12,\n",
       "       -11, -12, -11, -12, -13, -12, -11, -12, -11, -12, -11, -12, -13,\n",
       "       -14, -13, -14, -13, -14, -13, -14, -13, -14, -13, -14, -15, -16,\n",
       "       -17, -16, -17, -18, -19, -20, -21, -22, -23, -24, -23, -22, -23,\n",
       "       -24, -25, -26, -27, -26, -27, -28, -29, -30, -29, -28, -29, -28,\n",
       "       -27, -28, -29, -28, -29, -28, -29, -30, -31, -30, -31, -30, -29,\n",
       "       -28, -27, -28, -29, -30, -29, -30, -31, -30, -31, -32, -33, -34,\n",
       "       -35, -36, -37, -38, -39, -38, -39, -38, -39, -38, -39, -40, -39,\n",
       "       -38, -39, -40, -39, -38, -39, -40, -39, -40, -39, -40, -39, -40,\n",
       "       -41, -42, -43, -44, -43, -44, -45, -46, -45, -44, -43, -42, -43,\n",
       "       -44, -43, -42, -43, -42, -41, -42, -43, -44, -43, -44, -45, -44,\n",
       "       -43, -42, -41, -40, -41, -42, -43, -44, -43, -42, -41, -42, -43,\n",
       "       -44, -45, -44, -45, -44, -45, -46, -47, -48, -49, -48, -47, -46,\n",
       "       -45, -46, -45, -44, -45, -46, -47, -46, -47, -48, -47, -48, -49,\n",
       "       -48, -49, -50, -51, -52, -51, -52, -51, -50, -51, -52, -53, -54,\n",
       "       -55, -56, -57, -58, -59, -60, -59, -60, -59, -60, -59, -58, -59,\n",
       "       -60, -61, -62, -61, -62, -63, -64, -63, -64, -65, -66, -65, -66,\n",
       "       -67, -66, -67, -68, -69, -70, -69, -68, -69, -70, -69, -68, -67,\n",
       "       -68, -67, -66, -65, -66, -65, -64, -65, -66, -65, -66, -67, -66,\n",
       "       -65, -64, -63, -62, -63, -64, -65, -66, -65, -66, -65, -64, -63,\n",
       "       -62, -63, -64, -65, -66, -65, -64, -63, -62, -61, -60, -61, -60,\n",
       "       -59, -60, -59, -58, -59, -58, -57, -58, -59, -60, -61, -60, -59,\n",
       "       -60, -59, -58, -59, -58, -57, -58, -57, -56, -57, -58, -59, -58,\n",
       "       -57, -58, -57, -58, -57, -58, -59, -58, -57, -58, -59, -60, -61,\n",
       "       -62, -63, -64, -65, -66, -67, -66, -67, -68, -69, -70, -69, -68,\n",
       "       -67, -66, -67, -68, -69, -68, -67, -68, -67, -66, -67, -66, -67,\n",
       "       -68, -67, -68, -69, -68, -67, -66, -65, -66, -67, -68, -67, -68,\n",
       "       -69, -68, -69, -70, -71, -72, -73, -74, -75, -74, -73, -74, -75,\n",
       "       -74, -75, -74, -75, -76, -77, -78, -77, -76, -75, -76, -77, -76,\n",
       "       -77, -78, -79, -78, -77, -78, -77, -78, -77, -76, -77, -76, -77,\n",
       "       -78, -77, -76, -77, -78, -77, -76, -75, -74, -75, -74, -75, -76,\n",
       "       -75, -74, -73, -72, -71, -72, -71, -70, -69, -70, -69, -70, -71,\n",
       "       -70, -71, -70, -69, -68, -67, -68, -69, -70, -69, -68, -69, -70,\n",
       "       -69, -70, -71, -72, -73, -72, -71, -70, -69, -68, -69, -70, -69,\n",
       "       -70, -71, -70, -69, -68, -69, -70, -71, -70, -69, -68, -67, -66,\n",
       "       -67, -68, -69, -70, -69, -70, -69, -70, -69, -70, -71, -72, -71,\n",
       "       -70, -69, -70, -69, -68, -69, -68, -69, -68, -69, -68, -67, -68,\n",
       "       -69, -68, -67, -66, -65, -66, -65, -64, -65, -64, -63, -62, -63,\n",
       "       -64, -63, -64, -63, -62, -61, -60, -61, -62, -61, -62, -61, -60,\n",
       "       -59, -58, -57, -56, -57, -56, -57, -56, -55, -54, -55, -56, -57,\n",
       "       -58, -59, -58, -59, -58, -59, -60, -61, -60, -59, -58, -59, -58,\n",
       "       -57, -58, -59, -60, -61, -60, -61, -62, -61, -60, -59, -58, -57,\n",
       "       -58, -57, -56, -55, -54, -53, -52, -53, -52, -53, -52, -53, -52,\n",
       "       -51, -50, -51, -52, -51, -50, -51, -50, -49, -48, -49, -50, -51,\n",
       "       -52, -51, -50, -49, -50, -49, -48, -47, -46, -45, -46, -47, -48,\n",
       "       -49, -48, -47, -48, -49, -48, -49, -48, -49, -50, -49, -50, -51,\n",
       "       -50, -49, -50, -51, -50, -51, -50, -51, -50, -51, -52, -53, -54,\n",
       "       -55, -56, -55, -56, -57, -58, -57, -56, -57, -56, -57, -56, -55,\n",
       "       -54, -55, -54, -53, -52, -51, -50, -51, -52, -51, -50, -49, -50,\n",
       "       -49, -50, -49, -48, -47, -48, -49, -50, -49, -48, -47, -46, -45,\n",
       "       -44, -43, -42, -41, -40, -41, -42, -41, -42, -41, -40, -39, -40,\n",
       "       -41, -40, -39, -38, -37, -38, -37, -38, -39, -38, -39, -38, -37,\n",
       "       -36, -35, -34, -35, -36, -37, -38, -37, -36, -35, -36, -37, -38,\n",
       "       -39, -38, -37, -38, -37, -38, -39, -38, -37, -36, -35, -36, -37,\n",
       "       -38, -37, -38, -39, -40, -41, -40, -41, -42, -41, -40, -39, -40,\n",
       "       -41, -40, -39, -38, -37, -36, -37, -38, -37, -38, -39, -38, -39,\n",
       "       -38, -37, -36, -37, -38, -37, -38, -37, -36, -35, -34, -33, -32,\n",
       "       -33, -34, -33, -32, -33, -32, -31, -32, -31, -30, -31, -30, -29,\n",
       "       -30, -29, -28, -29, -28, -29, -30, -31, -30, -29, -28, -29, -28,\n",
       "       -27, -26, -25, -26, -27, -28, -29, -28, -27, -26, -27, -28, -27,\n",
       "       -26, -25, -26, -25, -24, -23, -24, -25, -24, -25, -24, -23, -22,\n",
       "       -21, -20, -19, -20, -21, -22, -23, -24, -23, -24, -25, -26, -27,\n",
       "       -26, -25, -26, -25, -24, -25, -24, -25, -26, -27, -28, -27, -26,\n",
       "       -27, -28, -29, -28, -29, -30, -29, -30, -31, -30, -29, -30, -31,\n",
       "       -30, -31, -30, -29, -28, -29, -30, -29, -30, -29, -28, -29, -30,\n",
       "       -31, -30, -31, -30, -31, -32, -31, -32, -31, -30, -31, -30],\n",
       "      dtype=int32)"
      ]
     },
     "execution_count": 22,
     "metadata": {},
     "output_type": "execute_result"
    }
   ],
   "source": [
    "#Finding walks carried by performing steps (Cumulative sum of all steps)\n",
    "walk = steps.cumsum()\n",
    "walk"
   ]
  },
  {
   "cell_type": "code",
   "execution_count": 24,
   "metadata": {},
   "outputs": [
    {
     "data": {
      "image/png": "[encoded data removed]",
      "text/plain": [
       "<Figure size 576x396 with 1 Axes>"
      ]
     },
     "metadata": {},
     "output_type": "display_data"
    }
   ],
   "source": [
    "#Displaying walk data on the screen\n",
    "\n",
    "plt.style.use('seaborn')\n",
    "plt.plot(walk, linestyle = '-', linewidth=1)\n",
    "\n",
    "plt.xlabel('Steps Taken')\n",
    "plt.ylabel('Walks Performed')\n",
    "plt.title('Random Walks Chart for 1000 steps')\n",
    "\n",
    "plt.savefig('plot.png')"
   ]
  },
  {
   "cell_type": "code",
   "execution_count": 25,
   "metadata": {},
   "outputs": [
    {
     "data": {
      "text/plain": [
       "-79"
      ]
     },
     "execution_count": 25,
     "metadata": {},
     "output_type": "execute_result"
    }
   ],
   "source": [
    "#Collecting Information from the Random Walk Data\n",
    "\n",
    "#Minimum value along Walk's Trajectory\n",
    "np.min(walk)"
   ]
  },
  {
   "cell_type": "code",
   "execution_count": 26,
   "metadata": {},
   "outputs": [
    {
     "data": {
      "text/plain": [
       "3"
      ]
     },
     "execution_count": 26,
     "metadata": {},
     "output_type": "execute_result"
    }
   ],
   "source": [
    "#Maximum value along Walk's Trajectory\n",
    "np.max(walk)"
   ]
  },
  {
   "cell_type": "code",
   "execution_count": 27,
   "metadata": {},
   "outputs": [
    {
     "data": {
      "text/plain": [
       "522"
      ]
     },
     "execution_count": 27,
     "metadata": {},
     "output_type": "execute_result"
    }
   ],
   "source": [
    "#First crossing time for [-10,10] steps\n",
    "(np.abs(walk)).argmax()"
   ]
  }
 ],
 "metadata": {
  "kernelspec": {
   "display_name": "Python 3",
   "language": "python",
   "name": "python3"
  },
  "language_info": {
   "codemirror_mode": {
    "name": "ipython",
    "version": 3
   },
   "file_extension": ".py",
   "mimetype": "text/x-python",
   "name": "python",
   "nbconvert_exporter": "python",
   "pygments_lexer": "ipython3",
   "version": "3.7.4"
  }
 },
 "nbformat": 4,
 "nbformat_minor": 2
}
