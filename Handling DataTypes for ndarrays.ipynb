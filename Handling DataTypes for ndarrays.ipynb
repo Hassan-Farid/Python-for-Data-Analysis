{
 "cells": [
  {
   "cell_type": "code",
   "execution_count": 2,
   "metadata": {},
   "outputs": [],
   "source": [
    "import numpy as np\n",
    "\n",
    "#D-types are named with the the name of type followed by the number of bits it represents \n",
    "#Following are the different d-types mentioned below:\n",
    "\n",
    "#int8/uint8 => Signed/Unsigned Integer(8-bits)\n",
    "#int16/uint16 => Signed/Unsigned Integer(16-bits)\n",
    "#int32/uint32 => Signed/Unsigned Integer(32-bits)\n",
    "#int64/uint64 => Signed/Unsigned Integer(64-bits)\n",
    "#float 16/32/64/128 => Floating Point(16/32/64/128 bits)\n",
    "#complex 64/128/256 => Complex Number(64/128/256 bits)\n",
    "#bool => Boolean number(1 bit i.e. either True or False)\n",
    "#object => Python object type(Bits based on the initializing in its class)\n",
    "#string_ => Fixed length string type(1 byte per character)\n",
    "#unicode_ => Fixed length unicode type(Number of bytes depend upon platform)\n"
   ]
  },
  {
   "cell_type": "code",
   "execution_count": 6,
   "metadata": {},
   "outputs": [
    {
     "data": {
      "text/plain": [
       "dtype('int32')"
      ]
     },
     "execution_count": 6,
     "metadata": {},
     "output_type": "execute_result"
    }
   ],
   "source": [
    "#ndarrays can be type casted from one dtype to another using astype()\n",
    "\n",
    "int_arr1 = np.array([1,2,3,4,5])\n",
    "int_arr1.dtype"
   ]
  },
  {
   "cell_type": "code",
   "execution_count": 11,
   "metadata": {},
   "outputs": [
    {
     "data": {
      "text/plain": [
       "array([1., 2., 3., 4., 5.])"
      ]
     },
     "execution_count": 11,
     "metadata": {},
     "output_type": "execute_result"
    }
   ],
   "source": [
    "float_arr1 = int_arr1.astype(np.float64) #typecasted into float64\n",
    "float_arr1"
   ]
  },
  {
   "cell_type": "code",
   "execution_count": 12,
   "metadata": {},
   "outputs": [
    {
     "data": {
      "text/plain": [
       "dtype('float64')"
      ]
     },
     "execution_count": 12,
     "metadata": {},
     "output_type": "execute_result"
    }
   ],
   "source": [
    "float_arr2 = np.array([2.3,4.3,5.3,1.5,6.64,6.4])\n",
    "float_arr2.dtype"
   ]
  },
  {
   "cell_type": "code",
   "execution_count": 13,
   "metadata": {},
   "outputs": [
    {
     "data": {
      "text/plain": [
       "array([2, 4, 5, 1, 6, 6])"
      ]
     },
     "execution_count": 13,
     "metadata": {},
     "output_type": "execute_result"
    }
   ],
   "source": [
    "int_arr2 = float_arr2.astype(np.int32) #typecasted into int32\n",
    "int_arr2"
   ]
  },
  {
   "cell_type": "code",
   "execution_count": 14,
   "metadata": {},
   "outputs": [
    {
     "data": {
      "text/plain": [
       "array(['1.23', '-3.4', '4.234'], dtype='<U5')"
      ]
     },
     "execution_count": 14,
     "metadata": {},
     "output_type": "execute_result"
    }
   ],
   "source": [
    "num_strings = np.array(['1.23','-3.4','4.234'])\n",
    "num_strings"
   ]
  },
  {
   "cell_type": "code",
   "execution_count": 15,
   "metadata": {},
   "outputs": [
    {
     "data": {
      "text/plain": [
       "array([ 1.23 , -3.4  ,  4.234])"
      ]
     },
     "execution_count": 15,
     "metadata": {},
     "output_type": "execute_result"
    }
   ],
   "source": [
    "float_arr3 = num_strings.astype(np.float64) #typecasted into float64\n",
    "float_arr3"
   ]
  },
  {
   "cell_type": "code",
   "execution_count": 17,
   "metadata": {},
   "outputs": [
    {
     "data": {
      "text/plain": [
       "array([ 1, -3,  4])"
      ]
     },
     "execution_count": 17,
     "metadata": {},
     "output_type": "execute_result"
    }
   ],
   "source": [
    "#Type casting can also be achieved by using the dtype attribute of another array as the astype argument\n",
    "int_arr3 = float_arr3.astype(int_arr2.dtype)\n",
    "int_arr3"
   ]
  },
  {
   "cell_type": "code",
   "execution_count": 19,
   "metadata": {},
   "outputs": [
    {
     "data": {
      "text/plain": [
       "array([1550587296, 1550587232,    6554236,   74582379, 1550358752,\n",
       "        160140528,  160140568,    2257486], dtype=uint32)"
      ]
     },
     "execution_count": 19,
     "metadata": {},
     "output_type": "execute_result"
    }
   ],
   "source": [
    "#D-types can also be referred using shorthand type codes\n",
    "new_arr = np.empty(8, dtype = 'u4')\n",
    "new_arr"
   ]
  },
  {
   "cell_type": "code",
   "execution_count": 20,
   "metadata": {},
   "outputs": [],
   "source": [
    "#Various shorthand type codes are as under:\n",
    "#int 8/16/32/64 = i1/i2/i4/8\n",
    "#uint 8/16/32/64 = u1/u2/u4/u8\n",
    "#float 16/32/64/128 = f2/f4 or f/f8 or d/f16 or g\n",
    "#complex 64/128/256 = c8/c16/c32\n",
    "#bool = ?\n",
    "#object = O\n",
    "#string_ = S\n",
    "#unicode_ = U"
   ]
  }
 ],
 "metadata": {
  "kernelspec": {
   "display_name": "Python 3",
   "language": "python",
   "name": "python3"
  },
  "language_info": {
   "codemirror_mode": {
    "name": "ipython",
    "version": 3
   },
   "file_extension": ".py",
   "mimetype": "text/x-python",
   "name": "python",
   "nbconvert_exporter": "python",
   "pygments_lexer": "ipython3",
   "version": "3.7.4"
  }
 },
 "nbformat": 4,
 "nbformat_minor": 2
}
