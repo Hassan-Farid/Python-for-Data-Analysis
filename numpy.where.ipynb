{
 "cells": [
  {
   "cell_type": "code",
   "execution_count": 1,
   "metadata": {},
   "outputs": [],
   "source": [
    "import numpy as np\n",
    "\n",
    "#numpy.where is vectorized form of python ternary expresssion (if else statement)\n",
    "\n",
    "xarr = np.array([1.,2.,3.,4.,5.])\n",
    "yarr = np.array([1.4,2.5,3.6,4.7,6.8])\n",
    "conditions = np.array([True, False, False, True, False])"
   ]
  },
  {
   "cell_type": "code",
   "execution_count": 3,
   "metadata": {},
   "outputs": [
    {
     "data": {
      "text/plain": [
       "[1.0, 2.5, 3.6, 4.0, 6.8]"
      ]
     },
     "execution_count": 3,
     "metadata": {},
     "output_type": "execute_result"
    }
   ],
   "source": [
    "#Suppose we want to take value from xarr if condition is True and from yarr if condition is False\n",
    "\n",
    "#In case of pure Python, the task can be performed via list comprehension as:\n",
    "result = [(x if c else y) for x,y,c in zip(xarr,yarr,conditions)]\n",
    "result"
   ]
  },
  {
   "cell_type": "code",
   "execution_count": 4,
   "metadata": {},
   "outputs": [
    {
     "data": {
      "text/plain": [
       "array([1. , 2.5, 3.6, 4. , 6.8])"
      ]
     },
     "execution_count": 4,
     "metadata": {},
     "output_type": "execute_result"
    }
   ],
   "source": [
    "#In case of numpy, we can use where() to perform the above task as:\n",
    "result = np.where(conditions, xarr, yarr)\n",
    "result"
   ]
  },
  {
   "cell_type": "code",
   "execution_count": 6,
   "metadata": {},
   "outputs": [
    {
     "data": {
      "text/plain": [
       "array([[ 1.32969813, -1.3431948 , -1.63296197, -0.31929917],\n",
       "       [-0.63439893,  0.088797  ,  0.04996672,  0.39516985],\n",
       "       [ 0.00767993, -0.93328636,  0.42585378,  0.03790392],\n",
       "       [ 0.67080532,  0.7480199 ,  0.26772152,  0.74426192]])"
      ]
     },
     "execution_count": 6,
     "metadata": {},
     "output_type": "execute_result"
    }
   ],
   "source": [
    "#Using np.where to change positive and negative values\n",
    "\n",
    "from numpy.random import randn\n",
    "\n",
    "data = randn(4,4)\n",
    "data"
   ]
  },
  {
   "cell_type": "code",
   "execution_count": 7,
   "metadata": {},
   "outputs": [
    {
     "data": {
      "text/plain": [
       "array([[1, 0, 0, 0],\n",
       "       [0, 1, 1, 1],\n",
       "       [1, 0, 1, 1],\n",
       "       [1, 1, 1, 1]])"
      ]
     },
     "execution_count": 7,
     "metadata": {},
     "output_type": "execute_result"
    }
   ],
   "source": [
    "#Suppose we want to replace all negative values to 0 and positive to 1 then:\n",
    "\n",
    "data = np.where(data < 0, 0, 1)\n",
    "data"
   ]
  },
  {
   "cell_type": "code",
   "execution_count": 29,
   "metadata": {},
   "outputs": [],
   "source": [
    "#Nested where expressions\n",
    "#In case of two or more conditions, np.where can be nested to perform desired task\n",
    "\n",
    "#Suppose we want values 0,1,2,3 for each of the following different conditions satisfying the value of x, then:\n",
    "#conitions = [false, false], [false, true], [true, false], [true, true]\n",
    "\n",
    "x = [-2,-1,0,1]\n",
    "y = [-2,0,-1,1]"
   ]
  },
  {
   "cell_type": "code",
   "execution_count": 37,
   "metadata": {},
   "outputs": [
    {
     "data": {
      "text/plain": [
       "[0, 1, 2, 3]"
      ]
     },
     "execution_count": 37,
     "metadata": {},
     "output_type": "execute_result"
    }
   ],
   "source": [
    "#Using pure Python\n",
    "result_1 = []\n",
    "for i in range(4):\n",
    "    if (x[i] < 0) and (y[i] < 0):\n",
    "        result_1.append(0)\n",
    "    elif (x[i] < 0) and (y[i] >= 0):\n",
    "        result_1.append(1)\n",
    "    elif (x[i] >= 0) and (y[i] < 0):\n",
    "        result_1.append(2)\n",
    "    else:\n",
    "        result_1.append(3)\n",
    "        \n",
    "result_1"
   ]
  },
  {
   "cell_type": "code",
   "execution_count": 38,
   "metadata": {},
   "outputs": [
    {
     "data": {
      "text/plain": [
       "array([0., 1., 2., 3.])"
      ]
     },
     "execution_count": 38,
     "metadata": {},
     "output_type": "execute_result"
    }
   ],
   "source": [
    "#Using np.where\n",
    "result_2 = np.empty(4)\n",
    "for j in range(4):\n",
    "    result_2[j] = np.where((x[j] < 0) and (y[j] < 0), 0,\n",
    "            np.where((x[j] < 0) and (y[j] >= 0), 1,\n",
    "                    np.where((x[j] >= 0) and (y[j] < 0), 2, 3)))\n",
    "result_2"
   ]
  },
  {
   "cell_type": "code",
   "execution_count": 41,
   "metadata": {},
   "outputs": [
    {
     "data": {
      "text/plain": [
       "array([0., 1., 2., 3.])"
      ]
     },
     "execution_count": 41,
     "metadata": {},
     "output_type": "execute_result"
    }
   ],
   "source": [
    "#In some cases we can apply np.where furthur to remove the for loop\n",
    "#Although for this approach, we can use the 0/1 values of conditional logic to our advantage and can evaluate the values based on simple Boolean Expression\n",
    "\n",
    "result_3 = np.empty(4)\n",
    "for k in range(1, 4):\n",
    "    result_3[k] = 1 * ((x[k] < 0) and (y[k] >= 0)) + 2 * ((x[k] >= 0) and (y[k] < 0)) + 3 * ((x[k] >= 0) and (y[k] >= 0))\n",
    "result_3    "
   ]
  }
 ],
 "metadata": {
  "kernelspec": {
   "display_name": "Python 3",
   "language": "python",
   "name": "python3"
  },
  "language_info": {
   "codemirror_mode": {
    "name": "ipython",
    "version": 3
   },
   "file_extension": ".py",
   "mimetype": "text/x-python",
   "name": "python",
   "nbconvert_exporter": "python",
   "pygments_lexer": "ipython3",
   "version": "3.7.4"
  }
 },
 "nbformat": 4,
 "nbformat_minor": 2
}
