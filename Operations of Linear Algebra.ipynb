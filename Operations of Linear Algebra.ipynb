{
 "cells": [
  {
   "cell_type": "code",
   "execution_count": 1,
   "metadata": {},
   "outputs": [],
   "source": [
    "#Numpy Arrays can evaluate operations of Linear Algebra\n",
    "import numpy as np\n",
    "from numpy.random import randn\n",
    "\n",
    "A = np.array([[1,2,3],[4,5,6]]) #2x2 matrix\n",
    "B = np.array([[1,2],[3,4],[5,6]]) #3x2 matrix"
   ]
  },
  {
   "cell_type": "code",
   "execution_count": 2,
   "metadata": {},
   "outputs": [
    {
     "data": {
      "text/plain": [
       "array([[1, 2, 3],\n",
       "       [4, 5, 6]])"
      ]
     },
     "execution_count": 2,
     "metadata": {},
     "output_type": "execute_result"
    }
   ],
   "source": [
    "A"
   ]
  },
  {
   "cell_type": "code",
   "execution_count": 3,
   "metadata": {},
   "outputs": [
    {
     "data": {
      "text/plain": [
       "array([[1, 2],\n",
       "       [3, 4],\n",
       "       [5, 6]])"
      ]
     },
     "execution_count": 3,
     "metadata": {},
     "output_type": "execute_result"
    }
   ],
   "source": [
    "B"
   ]
  },
  {
   "cell_type": "code",
   "execution_count": 5,
   "metadata": {},
   "outputs": [
    {
     "data": {
      "text/plain": [
       "array([[22, 28],\n",
       "       [49, 64]])"
      ]
     },
     "execution_count": 5,
     "metadata": {},
     "output_type": "execute_result"
    }
   ],
   "source": [
    "#Dot product function: dot\n",
    "np.dot(A,B)"
   ]
  },
  {
   "cell_type": "code",
   "execution_count": 7,
   "metadata": {},
   "outputs": [
    {
     "data": {
      "text/plain": [
       "array([ 6., 15.])"
      ]
     },
     "execution_count": 7,
     "metadata": {},
     "output_type": "execute_result"
    }
   ],
   "source": [
    "#Using suitable matrix, we can get 1D result from dot product of a 2D and 1D array\n",
    "np.dot(A, np.ones(3))"
   ]
  },
  {
   "cell_type": "code",
   "execution_count": 11,
   "metadata": {},
   "outputs": [
    {
     "data": {
      "text/plain": [
       "array([[-0.92330513, -0.27545177,  1.01606084,  0.47656796, -0.25881727],\n",
       "       [ 0.92064529, -1.16781398, -3.13578792, -0.40787525,  1.56836767],\n",
       "       [ 0.16504961,  1.64581198,  0.78009535, -1.51762351, -1.34317362],\n",
       "       [-0.75060235, -0.21383346, -0.27263813, -0.68501248, -0.85525025],\n",
       "       [-1.69681292,  0.46144554, -2.47395717,  0.87598453,  1.66015274]])"
      ]
     },
     "execution_count": 11,
     "metadata": {},
     "output_type": "execute_result"
    }
   ],
   "source": [
    "#Numpy gives the linalg module to perform linear algebra functionalities\n",
    "\n",
    "import numpy.linalg\n",
    "\n",
    "X = randn(5, 5)\n",
    "X"
   ]
  },
  {
   "cell_type": "code",
   "execution_count": 13,
   "metadata": {},
   "outputs": [
    {
     "data": {
      "text/plain": [
       "array([-0.92330513, -1.16781398,  0.78009535, -0.68501248,  1.66015274])"
      ]
     },
     "execution_count": 13,
     "metadata": {},
     "output_type": "execute_result"
    }
   ],
   "source": [
    "#Diagonal Values Function: diag\n",
    "np.diag(X)"
   ]
  },
  {
   "cell_type": "code",
   "execution_count": 14,
   "metadata": {},
   "outputs": [
    {
     "data": {
      "text/plain": [
       "-0.3358834923328249"
      ]
     },
     "execution_count": 14,
     "metadata": {},
     "output_type": "execute_result"
    }
   ],
   "source": [
    "#Trace Value Function: trace\n",
    "np.trace(X)"
   ]
  },
  {
   "cell_type": "code",
   "execution_count": 15,
   "metadata": {},
   "outputs": [
    {
     "data": {
      "text/plain": [
       "-7.284272432422328"
      ]
     },
     "execution_count": 15,
     "metadata": {},
     "output_type": "execute_result"
    }
   ],
   "source": [
    "#Determinant Value Function: det\n",
    "np.linalg.det(X)"
   ]
  },
  {
   "cell_type": "code",
   "execution_count": 16,
   "metadata": {},
   "outputs": [
    {
     "data": {
      "text/plain": [
       "(array([ 2.16223833+0.j        , -1.30624168+1.75899067j,\n",
       "        -1.30624168-1.75899067j,  0.89686451+0.j        ,\n",
       "        -0.78250298+0.j        ]),\n",
       " array([[ 0.16685568+0.j        , -0.23207051+0.18212845j,\n",
       "         -0.23207051-0.18212845j,  0.14041108+0.j        ,\n",
       "         -0.35315952+0.j        ],\n",
       "        [-0.43898452+0.j        ,  0.67822071+0.j        ,\n",
       "          0.67822071-0.j        , -0.27583369+0.j        ,\n",
       "         -0.53361388+0.j        ],\n",
       "        [ 0.06005357+0.j        , -0.14210975-0.4837585j ,\n",
       "         -0.14210975+0.4837585j , -0.23787721+0.j        ,\n",
       "          0.20106415+0.j        ],\n",
       "        [ 0.23797086+0.j        ,  0.11225518-0.16507914j,\n",
       "          0.11225518+0.16507914j,  0.44685659+0.j        ,\n",
       "         -0.6774018 +0.j        ],\n",
       "        [-0.84806557+0.j        , -0.1785741 -0.3564136j ,\n",
       "         -0.1785741 +0.3564136j , -0.80494355+0.j        ,\n",
       "          0.30205063+0.j        ]]))"
      ]
     },
     "execution_count": 16,
     "metadata": {},
     "output_type": "execute_result"
    }
   ],
   "source": [
    "#Eigen Value Function: eig\n",
    "np.linalg.eig(X)"
   ]
  },
  {
   "cell_type": "code",
   "execution_count": 17,
   "metadata": {},
   "outputs": [
    {
     "data": {
      "text/plain": [
       "array([[-1.14204732, -0.32262037, -0.37128838, -0.00564796, -0.17656773],\n",
       "       [-0.71073733, -0.39354616,  0.11311952, -0.17575424,  0.2619634 ],\n",
       "       [ 1.55309694,  0.52906657,  0.58561973, -0.74901444, -0.16974848],\n",
       "       [-2.41421948, -1.29958748, -1.28384275,  0.70079412,  0.1736707 ],\n",
       "       [ 2.61857842,  1.25378842,  1.1391838 , -1.44287746,  0.00447696]])"
      ]
     },
     "execution_count": 17,
     "metadata": {},
     "output_type": "execute_result"
    }
   ],
   "source": [
    "#Inverse Value Function: inv\n",
    "np.linalg.inv(X)"
   ]
  },
  {
   "cell_type": "code",
   "execution_count": 18,
   "metadata": {},
   "outputs": [
    {
     "data": {
      "text/plain": [
       "array([[-1.14204732, -0.32262037, -0.37128838, -0.00564796, -0.17656773],\n",
       "       [-0.71073733, -0.39354616,  0.11311952, -0.17575424,  0.2619634 ],\n",
       "       [ 1.55309694,  0.52906657,  0.58561973, -0.74901444, -0.16974848],\n",
       "       [-2.41421948, -1.29958748, -1.28384275,  0.70079412,  0.1736707 ],\n",
       "       [ 2.61857842,  1.25378842,  1.1391838 , -1.44287746,  0.00447696]])"
      ]
     },
     "execution_count": 18,
     "metadata": {},
     "output_type": "execute_result"
    }
   ],
   "source": [
    "#Pseudo Inverse Value Function (Moore-Penrose pseudo-inverse): pinv\n",
    "np.linalg.pinv(X)"
   ]
  },
  {
   "cell_type": "code",
   "execution_count": 19,
   "metadata": {},
   "outputs": [
    {
     "data": {
      "text/plain": [
       "(array([[-0.40607308, -0.23817498,  0.41949282, -0.14740517, -0.76202023],\n",
       "        [ 0.40490327, -0.47132063, -0.63571499, -0.27686549, -0.36485909],\n",
       "        [ 0.07258944,  0.82710805, -0.20271468, -0.39953961, -0.33150853],\n",
       "        [-0.33011775, -0.18866395,  0.04695207, -0.82275165,  0.419885  ],\n",
       "        [-0.74626472,  0.03778527, -0.61367295,  0.25507851, -0.00130282]]),\n",
       " array([[ 2.27374129, -0.51529989,  0.3105706 , -0.89641647, -0.31394444],\n",
       "        [ 0.        ,  2.03506339,  1.83914228, -1.01416869, -1.56442575],\n",
       "        [ 0.        ,  0.        ,  3.76696051,  0.19712304, -1.89227242],\n",
       "        [ 0.        ,  0.        ,  0.        ,  1.43606868,  1.26770303],\n",
       "        [ 0.        ,  0.        ,  0.        ,  0.        , -0.29100531]]))"
      ]
     },
     "execution_count": 19,
     "metadata": {},
     "output_type": "execute_result"
    }
   ],
   "source": [
    "#QR Decomposition Function: qr\n",
    "np.linalg.qr(X)"
   ]
  },
  {
   "cell_type": "code",
   "execution_count": 20,
   "metadata": {},
   "outputs": [
    {
     "data": {
      "text/plain": [
       "(array([[ 1.53279987e-01,  4.29782060e-01,  1.93259855e-01,\n",
       "         -3.46098645e-01, -7.96654871e-01],\n",
       "        [-6.92175955e-01, -5.91557891e-01,  7.26728861e-03,\n",
       "         -1.75243654e-01, -3.74417624e-01],\n",
       "        [ 3.83564000e-01, -2.89961580e-01, -7.81855475e-01,\n",
       "          1.83370734e-01, -3.51963251e-01],\n",
       "        [ 4.98775688e-02,  4.76164759e-04, -3.26819100e-01,\n",
       "         -8.89012542e-01,  3.16793274e-01],\n",
       "        [-5.89736025e-01,  6.17469593e-01, -4.94458398e-01,\n",
       "          1.59803830e-01,  3.02712963e-02]]),\n",
       " array([5.05640143, 2.60015677, 2.23832488, 1.27342239, 0.19437907]),\n",
       " array([[ 0.04900083,  0.22043131,  0.80509004, -0.15376595, -0.52649313],\n",
       "        [-0.78356076,  0.14616422,  0.20681983,  0.54870627,  0.14427594],\n",
       "        [ 0.35004857, -0.67317684,  0.3913755 ,  0.47644416,  0.21005981],\n",
       "        [ 0.45909384,  0.67975922,  0.14759219,  0.29622587,  0.46650512],\n",
       "        [ 0.22434416,  0.12168154, -0.36619305,  0.60044039, -0.6635038 ]]))"
      ]
     },
     "execution_count": 20,
     "metadata": {},
     "output_type": "execute_result"
    }
   ],
   "source": [
    "#SVD Decomposition Function: svd\n",
    "np.linalg.svd(X)"
   ]
  },
  {
   "cell_type": "code",
   "execution_count": 22,
   "metadata": {},
   "outputs": [
    {
     "data": {
      "text/plain": [
       "array([[-1.14204732, -0.32262037, -0.37128838, -0.00564796, -0.17656773],\n",
       "       [-0.71073733, -0.39354616,  0.11311952, -0.17575424,  0.2619634 ],\n",
       "       [ 1.55309694,  0.52906657,  0.58561973, -0.74901444, -0.16974848],\n",
       "       [-2.41421948, -1.29958748, -1.28384275,  0.70079412,  0.1736707 ],\n",
       "       [ 2.61857842,  1.25378842,  1.1391838 , -1.44287746,  0.00447696]])"
      ]
     },
     "execution_count": 22,
     "metadata": {},
     "output_type": "execute_result"
    }
   ],
   "source": [
    "#Linear System Solution Value Function (x for Ax = b): solve\n",
    "np.linalg.solve(X, np.eye(5))"
   ]
  },
  {
   "cell_type": "code",
   "execution_count": 25,
   "metadata": {},
   "outputs": [
    {
     "data": {
      "text/plain": [
       "array([-2.01817175, -0.9049548 ,  1.74902032, -4.12318489,  3.57315015])"
      ]
     },
     "execution_count": 25,
     "metadata": {},
     "output_type": "execute_result"
    }
   ],
   "source": [
    "#Least Squares Solution Value Function (y for y = Xb): lstsq\n",
    "np.linalg.solve(X, np.ones(5))"
   ]
  }
 ],
 "metadata": {
  "kernelspec": {
   "display_name": "Python 3",
   "language": "python",
   "name": "python3"
  },
  "language_info": {
   "codemirror_mode": {
    "name": "ipython",
    "version": 3
   },
   "file_extension": ".py",
   "mimetype": "text/x-python",
   "name": "python",
   "nbconvert_exporter": "python",
   "pygments_lexer": "ipython3",
   "version": "3.7.4"
  }
 },
 "nbformat": 4,
 "nbformat_minor": 2
}
