{
 "cells": [
  {
   "cell_type": "code",
   "execution_count": 2,
   "metadata": {},
   "outputs": [
    {
     "data": {
      "text/html": [
       "<div>\n",
       "<style scoped>\n",
       "    .dataframe tbody tr th:only-of-type {\n",
       "        vertical-align: middle;\n",
       "    }\n",
       "\n",
       "    .dataframe tbody tr th {\n",
       "        vertical-align: top;\n",
       "    }\n",
       "\n",
       "    .dataframe thead th {\n",
       "        text-align: right;\n",
       "    }\n",
       "</style>\n",
       "<table border=\"1\" class=\"dataframe\">\n",
       "  <thead>\n",
       "    <tr style=\"text-align: right;\">\n",
       "      <th></th>\n",
       "      <th>b</th>\n",
       "      <th>d</th>\n",
       "      <th>e</th>\n",
       "    </tr>\n",
       "  </thead>\n",
       "  <tbody>\n",
       "    <tr>\n",
       "      <td>First</td>\n",
       "      <td>1.850328</td>\n",
       "      <td>0.000154</td>\n",
       "      <td>-2.013637</td>\n",
       "    </tr>\n",
       "    <tr>\n",
       "      <td>Second</td>\n",
       "      <td>0.318101</td>\n",
       "      <td>-1.497292</td>\n",
       "      <td>-0.198700</td>\n",
       "    </tr>\n",
       "    <tr>\n",
       "      <td>Third</td>\n",
       "      <td>-0.507836</td>\n",
       "      <td>0.841405</td>\n",
       "      <td>2.139488</td>\n",
       "    </tr>\n",
       "    <tr>\n",
       "      <td>Fourth</td>\n",
       "      <td>-0.628587</td>\n",
       "      <td>0.941262</td>\n",
       "      <td>1.083527</td>\n",
       "    </tr>\n",
       "  </tbody>\n",
       "</table>\n",
       "</div>"
      ],
      "text/plain": [
       "               b         d         e\n",
       "First   1.850328  0.000154 -2.013637\n",
       "Second  0.318101 -1.497292 -0.198700\n",
       "Third  -0.507836  0.841405  2.139488\n",
       "Fourth -0.628587  0.941262  1.083527"
      ]
     },
     "execution_count": 2,
     "metadata": {},
     "output_type": "execute_result"
    }
   ],
   "source": [
    "#Now we will deal with the apply methods for DataFrames\n",
    "\n",
    "import pandas as pd\n",
    "import numpy as np\n",
    "from pandas import Series, DataFrame\n",
    "\n",
    "frame_obj = DataFrame(np.random.randn(4,3), columns=list('bde'), index=['First','Second','Third','Fourth'])\n",
    "frame_obj"
   ]
  },
  {
   "cell_type": "code",
   "execution_count": 5,
   "metadata": {},
   "outputs": [
    {
     "data": {
      "text/plain": [
       "b    2.478915\n",
       "d    2.438554\n",
       "e    4.153125\n",
       "dtype: float64"
      ]
     },
     "execution_count": 5,
     "metadata": {},
     "output_type": "execute_result"
    }
   ],
   "source": [
    "#We can perform a particular function on a DataFrame's data using the Apply method \n",
    "\n",
    "f = lambda x: x.max() - x.min() #A simple function to calculate max-min value for a set of values\n",
    "\n",
    "#Now applying the function on the DataFrame\n",
    "frame_obj.apply(f) #Applies function to columns"
   ]
  },
  {
   "cell_type": "code",
   "execution_count": 6,
   "metadata": {},
   "outputs": [
    {
     "data": {
      "text/plain": [
       "First     3.863965\n",
       "Second    1.815393\n",
       "Third     2.647324\n",
       "Fourth    1.712114\n",
       "dtype: float64"
      ]
     },
     "execution_count": 6,
     "metadata": {},
     "output_type": "execute_result"
    }
   ],
   "source": [
    "#Now by defualt the axis value for this apply method is 0, we can alter it to apply the function to other axes\n",
    "frame_obj.apply(f, axis = 1) #Applies function to rows"
   ]
  },
  {
   "cell_type": "code",
   "execution_count": 8,
   "metadata": {},
   "outputs": [
    {
     "data": {
      "text/html": [
       "<div>\n",
       "<style scoped>\n",
       "    .dataframe tbody tr th:only-of-type {\n",
       "        vertical-align: middle;\n",
       "    }\n",
       "\n",
       "    .dataframe tbody tr th {\n",
       "        vertical-align: top;\n",
       "    }\n",
       "\n",
       "    .dataframe thead th {\n",
       "        text-align: right;\n",
       "    }\n",
       "</style>\n",
       "<table border=\"1\" class=\"dataframe\">\n",
       "  <thead>\n",
       "    <tr style=\"text-align: right;\">\n",
       "      <th></th>\n",
       "      <th>b</th>\n",
       "      <th>d</th>\n",
       "      <th>e</th>\n",
       "    </tr>\n",
       "  </thead>\n",
       "  <tbody>\n",
       "    <tr>\n",
       "      <td>min</td>\n",
       "      <td>-0.628587</td>\n",
       "      <td>-1.497292</td>\n",
       "      <td>-2.013637</td>\n",
       "    </tr>\n",
       "    <tr>\n",
       "      <td>max</td>\n",
       "      <td>1.850328</td>\n",
       "      <td>0.941262</td>\n",
       "      <td>2.139488</td>\n",
       "    </tr>\n",
       "  </tbody>\n",
       "</table>\n",
       "</div>"
      ],
      "text/plain": [
       "            b         d         e\n",
       "min -0.628587 -1.497292 -2.013637\n",
       "max  1.850328  0.941262  2.139488"
      ]
     },
     "execution_count": 8,
     "metadata": {},
     "output_type": "execute_result"
    }
   ],
   "source": [
    "#The function that apply uses doesnt necessarily have to be a scalar value, we can return structures through it as well\n",
    "\n",
    "def f(x):\n",
    "    return Series([min(x),max(x)], index=['min','max']) #returns a series containing max and min elements of x\n",
    "\n",
    "#Applying the function to DataFrame object\n",
    "frame_obj.apply(f) #Computes the max and min values and returns it as a Series as per the function"
   ]
  },
  {
   "cell_type": "code",
   "execution_count": 9,
   "metadata": {},
   "outputs": [
    {
     "data": {
      "text/html": [
       "<div>\n",
       "<style scoped>\n",
       "    .dataframe tbody tr th:only-of-type {\n",
       "        vertical-align: middle;\n",
       "    }\n",
       "\n",
       "    .dataframe tbody tr th {\n",
       "        vertical-align: top;\n",
       "    }\n",
       "\n",
       "    .dataframe thead th {\n",
       "        text-align: right;\n",
       "    }\n",
       "</style>\n",
       "<table border=\"1\" class=\"dataframe\">\n",
       "  <thead>\n",
       "    <tr style=\"text-align: right;\">\n",
       "      <th></th>\n",
       "      <th>min</th>\n",
       "      <th>max</th>\n",
       "    </tr>\n",
       "  </thead>\n",
       "  <tbody>\n",
       "    <tr>\n",
       "      <td>First</td>\n",
       "      <td>-2.013637</td>\n",
       "      <td>1.850328</td>\n",
       "    </tr>\n",
       "    <tr>\n",
       "      <td>Second</td>\n",
       "      <td>-1.497292</td>\n",
       "      <td>0.318101</td>\n",
       "    </tr>\n",
       "    <tr>\n",
       "      <td>Third</td>\n",
       "      <td>-0.507836</td>\n",
       "      <td>2.139488</td>\n",
       "    </tr>\n",
       "    <tr>\n",
       "      <td>Fourth</td>\n",
       "      <td>-0.628587</td>\n",
       "      <td>1.083527</td>\n",
       "    </tr>\n",
       "  </tbody>\n",
       "</table>\n",
       "</div>"
      ],
      "text/plain": [
       "             min       max\n",
       "First  -2.013637  1.850328\n",
       "Second -1.497292  0.318101\n",
       "Third  -0.507836  2.139488\n",
       "Fourth -0.628587  1.083527"
      ]
     },
     "execution_count": 9,
     "metadata": {},
     "output_type": "execute_result"
    }
   ],
   "source": [
    "#In case of row wise\n",
    "frame_obj.apply(f, axis = 1)"
   ]
  },
  {
   "cell_type": "code",
   "execution_count": 10,
   "metadata": {},
   "outputs": [
    {
     "data": {
      "text/html": [
       "<div>\n",
       "<style scoped>\n",
       "    .dataframe tbody tr th:only-of-type {\n",
       "        vertical-align: middle;\n",
       "    }\n",
       "\n",
       "    .dataframe tbody tr th {\n",
       "        vertical-align: top;\n",
       "    }\n",
       "\n",
       "    .dataframe thead th {\n",
       "        text-align: right;\n",
       "    }\n",
       "</style>\n",
       "<table border=\"1\" class=\"dataframe\">\n",
       "  <thead>\n",
       "    <tr style=\"text-align: right;\">\n",
       "      <th></th>\n",
       "      <th>b</th>\n",
       "      <th>d</th>\n",
       "      <th>e</th>\n",
       "    </tr>\n",
       "  </thead>\n",
       "  <tbody>\n",
       "    <tr>\n",
       "      <td>First</td>\n",
       "      <td>1.850328</td>\n",
       "      <td>0.000154</td>\n",
       "      <td>-2.013637</td>\n",
       "    </tr>\n",
       "    <tr>\n",
       "      <td>Second</td>\n",
       "      <td>0.318101</td>\n",
       "      <td>-1.497292</td>\n",
       "      <td>-0.198700</td>\n",
       "    </tr>\n",
       "    <tr>\n",
       "      <td>Third</td>\n",
       "      <td>-0.507836</td>\n",
       "      <td>0.841405</td>\n",
       "      <td>2.139488</td>\n",
       "    </tr>\n",
       "    <tr>\n",
       "      <td>Fourth</td>\n",
       "      <td>-0.628587</td>\n",
       "      <td>0.941262</td>\n",
       "      <td>1.083527</td>\n",
       "    </tr>\n",
       "  </tbody>\n",
       "</table>\n",
       "</div>"
      ],
      "text/plain": [
       "                b          d          e\n",
       "First    1.850328   0.000154  -2.013637\n",
       "Second   0.318101  -1.497292  -0.198700\n",
       "Third   -0.507836   0.841405   2.139488\n",
       "Fourth  -0.628587   0.941262   1.083527"
      ]
     },
     "execution_count": 10,
     "metadata": {},
     "output_type": "execute_result"
    }
   ],
   "source": [
    "#In case of applying an element wise function, we have\n",
    "def format(x): #Returns the formatted string of the items in x\n",
    "    return '%2f'%x\n",
    "    \n",
    "frame_obj.applymap(format)"
   ]
  },
  {
   "cell_type": "code",
   "execution_count": 13,
   "metadata": {},
   "outputs": [
    {
     "data": {
      "text/plain": [
       "First     -2.013637\n",
       "Second    -0.198700\n",
       "Third      2.139488\n",
       "Fourth     1.083527\n",
       "Name: e, dtype: object"
      ]
     },
     "execution_count": 13,
     "metadata": {},
     "output_type": "execute_result"
    }
   ],
   "source": [
    "#In case we want to apply the function to only the 'e' column of the DataFrame\n",
    "frame_obj['e'].map(format)"
   ]
  }
 ],
 "metadata": {
  "kernelspec": {
   "display_name": "Python 3",
   "language": "python",
   "name": "python3"
  },
  "language_info": {
   "codemirror_mode": {
    "name": "ipython",
    "version": 3
   },
   "file_extension": ".py",
   "mimetype": "text/x-python",
   "name": "python",
   "nbconvert_exporter": "python",
   "pygments_lexer": "ipython3",
   "version": "3.7.4"
  }
 },
 "nbformat": 4,
 "nbformat_minor": 2
}
