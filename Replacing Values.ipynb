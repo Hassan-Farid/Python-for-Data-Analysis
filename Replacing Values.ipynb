{
 "cells": [
  {
   "cell_type": "code",
   "execution_count": 1,
   "metadata": {},
   "outputs": [],
   "source": [
    "#We now look at a more general method of replacement in pandas\n",
    "import pandas as pd\n",
    "from pandas import DataFrame, Series\n",
    "import numpy as np"
   ]
  },
  {
   "cell_type": "code",
   "execution_count": 6,
   "metadata": {},
   "outputs": [],
   "source": [
    "#Consider a Series of values\n",
    "data = Series([1.,-234,2.,-234,1000,-124,-999,456,-999,56,234])"
   ]
  },
  {
   "cell_type": "code",
   "execution_count": 7,
   "metadata": {},
   "outputs": [
    {
     "data": {
      "text/plain": [
       "0        1.0\n",
       "1     -234.0\n",
       "2        2.0\n",
       "3     -234.0\n",
       "4     1000.0\n",
       "5     -124.0\n",
       "6     -999.0\n",
       "7      456.0\n",
       "8     -999.0\n",
       "9       56.0\n",
       "10     234.0\n",
       "dtype: float64"
      ]
     },
     "execution_count": 7,
     "metadata": {},
     "output_type": "execute_result"
    }
   ],
   "source": [
    "data"
   ]
  },
  {
   "cell_type": "code",
   "execution_count": 8,
   "metadata": {},
   "outputs": [
    {
     "data": {
      "text/plain": [
       "0        1.0\n",
       "1     -234.0\n",
       "2        2.0\n",
       "3     -234.0\n",
       "4     1000.0\n",
       "5     -124.0\n",
       "6        NaN\n",
       "7      456.0\n",
       "8        NaN\n",
       "9       56.0\n",
       "10     234.0\n",
       "dtype: float64"
      ]
     },
     "execution_count": 8,
     "metadata": {},
     "output_type": "execute_result"
    }
   ],
   "source": [
    "#The replace method allows you to change values easily\n",
    "#Suppsoe -999 be sentimental values for missing data\n",
    "\n",
    "data.replace(-999, np.nan) #Replacing all -999 values with NaN values"
   ]
  },
  {
   "cell_type": "code",
   "execution_count": 11,
   "metadata": {},
   "outputs": [
    {
     "data": {
      "text/plain": [
       "0        1.0\n",
       "1        NaN\n",
       "2        2.0\n",
       "3        NaN\n",
       "4     1000.0\n",
       "5     -124.0\n",
       "6        NaN\n",
       "7      456.0\n",
       "8        NaN\n",
       "9       56.0\n",
       "10     234.0\n",
       "dtype: float64"
      ]
     },
     "execution_count": 11,
     "metadata": {},
     "output_type": "execute_result"
    }
   ],
   "source": [
    "#We can also perform it on more than one items at a time by passing the items to replace as a list with a list of their replacement values\n",
    "\n",
    "data.replace([-999,-234], np.nan)"
   ]
  },
  {
   "cell_type": "code",
   "execution_count": 12,
   "metadata": {},
   "outputs": [
    {
     "data": {
      "text/plain": [
       "0        1.0\n",
       "1        0.0\n",
       "2        2.0\n",
       "3        0.0\n",
       "4     1000.0\n",
       "5     -124.0\n",
       "6        NaN\n",
       "7      456.0\n",
       "8        NaN\n",
       "9       56.0\n",
       "10     234.0\n",
       "dtype: float64"
      ]
     },
     "execution_count": 12,
     "metadata": {},
     "output_type": "execute_result"
    }
   ],
   "source": [
    "data.replace([-999,-234],[np.nan,0])"
   ]
  },
  {
   "cell_type": "code",
   "execution_count": 15,
   "metadata": {},
   "outputs": [
    {
     "data": {
      "text/plain": [
       "0        1.0\n",
       "1        0.0\n",
       "2        2.0\n",
       "3        0.0\n",
       "4     1000.0\n",
       "5     -124.0\n",
       "6        NaN\n",
       "7      456.0\n",
       "8        NaN\n",
       "9       56.0\n",
       "10     234.0\n",
       "dtype: float64"
      ]
     },
     "execution_count": 15,
     "metadata": {},
     "output_type": "execute_result"
    }
   ],
   "source": [
    "#We can also perform the operations using dicts instead of lists\n",
    "data.replace({-999: np.nan, -234:0})"
   ]
  },
  {
   "cell_type": "code",
   "execution_count": null,
   "metadata": {},
   "outputs": [],
   "source": []
  }
 ],
 "metadata": {
  "kernelspec": {
   "display_name": "Python 3",
   "language": "python",
   "name": "python3"
  },
  "language_info": {
   "codemirror_mode": {
    "name": "ipython",
    "version": 3
   },
   "file_extension": ".py",
   "mimetype": "text/x-python",
   "name": "python",
   "nbconvert_exporter": "python",
   "pygments_lexer": "ipython3",
   "version": "3.8.2"
  }
 },
 "nbformat": 4,
 "nbformat_minor": 4
}
