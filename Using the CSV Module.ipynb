{
 "cells": [
  {
   "cell_type": "code",
   "execution_count": 1,
   "metadata": {},
   "outputs": [],
   "source": [
    "#Sometimes we have to manually correct the info in the delimited files rather than using automation process\n",
    "#For that we will use the Python built-in csv module\n",
    "import csv"
   ]
  },
  {
   "cell_type": "code",
   "execution_count": 12,
   "metadata": {},
   "outputs": [
    {
     "name": "stdout",
     "output_type": "stream",
     "text": [
      "['ID', 'Name', 'Field']\n",
      "['1', 'Adam Jones', 'Electrical']\n",
      "['2', 'Edward Elrich', 'Mechanical']\n",
      "['3', 'Stain Steve', 'Computer Science']\n",
      "['4', 'Ken Adams', 'Media Science']\n",
      "['5', 'Ross Taylor', 'Sportsman']\n"
     ]
    }
   ],
   "source": [
    "#Reading files using the csv module\n",
    "with open(r'Data Files\\fields.csv', 'r') as csv_file:\n",
    "    csv_reader = csv.reader(csv_file)\n",
    "    \n",
    "    #Displaying the content of the csv file as a list\n",
    "    for line in csv_reader:\n",
    "        print(line)"
   ]
  },
  {
   "cell_type": "code",
   "execution_count": 14,
   "metadata": {},
   "outputs": [],
   "source": [
    "#We can manually seperate the headers from the given file using basic list indexing\n",
    "#Opening the file for reading\n",
    "csv_file = open(r'Data Files\\fields.csv')"
   ]
  },
  {
   "cell_type": "code",
   "execution_count": 17,
   "metadata": {},
   "outputs": [],
   "source": [
    "#Reading the contents of the file to a list containing header and contents as elements\n",
    "reader = list(csv.reader(csv_file))"
   ]
  },
  {
   "cell_type": "code",
   "execution_count": 18,
   "metadata": {},
   "outputs": [],
   "source": [
    "#Seperating the header and content from list using basic assignment\n",
    "header, content = reader[0], reader[1:]"
   ]
  },
  {
   "cell_type": "code",
   "execution_count": 19,
   "metadata": {},
   "outputs": [
    {
     "name": "stdout",
     "output_type": "stream",
     "text": [
      "['ID', 'Name', 'Field']\n"
     ]
    }
   ],
   "source": [
    "print(header)"
   ]
  },
  {
   "cell_type": "code",
   "execution_count": 20,
   "metadata": {},
   "outputs": [
    {
     "name": "stdout",
     "output_type": "stream",
     "text": [
      "[['1', 'Adam Jones', 'Electrical'], ['2', 'Edward Elrich', 'Mechanical'], ['3', 'Stain Steve', 'Computer Science'], ['4', 'Ken Adams', 'Media Science'], ['5', 'Ross Taylor', 'Sportsman']]\n"
     ]
    }
   ],
   "source": [
    "print(content)"
   ]
  },
  {
   "cell_type": "code",
   "execution_count": 21,
   "metadata": {},
   "outputs": [],
   "source": [
    "#Using this data we can create other data structures for suppose a dictionary\n",
    "reader_dict = {h:c for h,c in zip(header, zip(*content))} #Creates a dictionary with key values as headers and ordered pairs of the content values"
   ]
  },
  {
   "cell_type": "code",
   "execution_count": 22,
   "metadata": {},
   "outputs": [
    {
     "data": {
      "text/plain": [
       "{'ID': ('1', '2', '3', '4', '5'),\n",
       " 'Name': ('Adam Jones',\n",
       "  'Edward Elrich',\n",
       "  'Stain Steve',\n",
       "  'Ken Adams',\n",
       "  'Ross Taylor'),\n",
       " 'Field': ('Electrical',\n",
       "  'Mechanical',\n",
       "  'Computer Science',\n",
       "  'Media Science',\n",
       "  'Sportsman')}"
      ]
     },
     "execution_count": 22,
     "metadata": {},
     "output_type": "execute_result"
    }
   ],
   "source": [
    "reader_dict"
   ]
  },
  {
   "cell_type": "code",
   "execution_count": 26,
   "metadata": {},
   "outputs": [],
   "source": [
    "#Another great use of csv module is that we can create our own dialect of a csv file by passing arguments to it\n",
    "#For a csv.Dialect class we have:\n",
    "#delimiter: value seperator (by default: ',')\n",
    "#lineterminator: line seperator (by default: '\\n')\n",
    "#quotechar: special character seperator (by default: '\"')\n",
    "#quoting: csv.QUOTE_ALL (quotes every character) or csv.QUOTE_MINIMAL (quotes only special characters)(by default), csv.QUOTE_NONNUMERIC (quotes only non-numeric characters), csv.QUOTE_NON (quotes no characters)\n",
    "#skipintialspace: Ignore white space after each delimiter (by default: False)\n",
    "#doublequote: Double quotes inside a field\n",
    "#escapechar: String to escape delimiter for QUOTE_NON (by default: disabled)"
   ]
  },
  {
   "cell_type": "code",
   "execution_count": 60,
   "metadata": {},
   "outputs": [],
   "source": [
    "#Lets create a simple csv.Dialect class and use it for our storage\n",
    "class my_dialect(csv.Dialect): #creating subclass from csv.Dialect\n",
    "    lineterminator = '\\n'\n",
    "    delimiter = \";\"\n",
    "    quotechar = '\"'\n",
    "    quoting = csv.QUOTE_MINIMAL"
   ]
  },
  {
   "cell_type": "code",
   "execution_count": 62,
   "metadata": {},
   "outputs": [],
   "source": [
    "csv_file = open(r'Data Files\\fields.csv')\n",
    "csv_reader = csv.reader(csv_file, delimiter='|')"
   ]
  },
  {
   "cell_type": "code",
   "execution_count": 63,
   "metadata": {},
   "outputs": [
    {
     "name": "stdout",
     "output_type": "stream",
     "text": [
      "<_csv.reader object at 0x000002058D709B20>\n"
     ]
    }
   ],
   "source": [
    "print(csv_reader)"
   ]
  },
  {
   "cell_type": "code",
   "execution_count": 65,
   "metadata": {},
   "outputs": [],
   "source": [
    "#We can also write files manually by using the csv.writer function in our dialect we created\n",
    "with open('Data Files/my_fields.csv', 'w') as csv_file:\n",
    "    writer = csv.writer(csv_file, dialect=my_dialect)\n",
    "    writer.writerow(('Day','Date','Year'))\n",
    "    writer.writerow(('Monday','02','2020'))\n",
    "    writer.writerow(('Tuesday','03','2020'))\n",
    "    writer.writerow(('Friday','05','2020'))\n",
    "    "
   ]
  },
  {
   "cell_type": "code",
   "execution_count": 66,
   "metadata": {},
   "outputs": [],
   "source": [
    "csv_file = open(r'Data Files/my_fields.csv')"
   ]
  },
  {
   "cell_type": "code",
   "execution_count": 67,
   "metadata": {},
   "outputs": [],
   "source": [
    "csv_reader = csv.reader(csv_file)"
   ]
  },
  {
   "cell_type": "code",
   "execution_count": 68,
   "metadata": {},
   "outputs": [
    {
     "name": "stdout",
     "output_type": "stream",
     "text": [
      "['Day;Date;Year']\n",
      "['Monday;02;2020']\n",
      "['Tuesday;03;2020']\n",
      "['Friday;05;2020']\n"
     ]
    }
   ],
   "source": [
    "for line in csv_reader:\n",
    "    print(line)"
   ]
  }
 ],
 "metadata": {
  "kernelspec": {
   "display_name": "Python 3",
   "language": "python",
   "name": "python3"
  },
  "language_info": {
   "codemirror_mode": {
    "name": "ipython",
    "version": 3
   },
   "file_extension": ".py",
   "mimetype": "text/x-python",
   "name": "python",
   "nbconvert_exporter": "python",
   "pygments_lexer": "ipython3",
   "version": "3.8.2"
  }
 },
 "nbformat": 4,
 "nbformat_minor": 4
}
