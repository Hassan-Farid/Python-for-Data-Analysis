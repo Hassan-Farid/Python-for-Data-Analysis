{
 "cells": [
  {
   "cell_type": "code",
   "execution_count": 1,
   "metadata": {},
   "outputs": [
    {
     "data": {
      "text/plain": [
       "array([False,  True,  True, False,  True, False, False])"
      ]
     },
     "execution_count": 1,
     "metadata": {},
     "output_type": "execute_result"
    }
   ],
   "source": [
    "#Numpy can be used to carry out methods for boolean arrays\n",
    "\n",
    "import numpy as np\n",
    "from numpy.random import randn\n",
    "\n",
    "bool_arr = np.array([False, True, True, False, True, False, False])\n",
    "bool_arr"
   ]
  },
  {
   "cell_type": "code",
   "execution_count": 3,
   "metadata": {},
   "outputs": [
    {
     "data": {
      "text/plain": [
       "array([-0.82970925, -0.48842782,  0.86957697,  1.37041254, -1.4876376 ,\n",
       "        0.92170847, -0.98813075,  0.67024641, -0.06906026, -0.62078202,\n",
       "       -0.07863047,  0.89943169, -1.75947612, -1.28893664,  0.20412679,\n",
       "        0.39540743, -1.68352065,  0.82482254,  0.59171459, -0.89408004,\n",
       "       -0.45913128,  0.25794878, -1.08751663,  0.23117771, -1.34423815,\n",
       "       -0.02232406,  0.88415439,  0.51197638, -0.15096856, -0.00670537,\n",
       "        0.85985364, -0.00472732,  0.44990037, -1.08608628,  0.71948998,\n",
       "       -0.84585393,  1.24785555, -0.20212936,  0.68847375,  0.7670229 ,\n",
       "        0.95111833, -1.59459513, -1.09352728, -0.64458559, -0.3634872 ,\n",
       "       -1.3276456 ,  0.57444793,  0.76870495, -0.39937309, -0.29209341,\n",
       "       -1.2194886 , -0.17203274,  0.75005586, -0.03389137,  1.61555002,\n",
       "       -0.77622018,  0.65691334,  0.43114165, -1.3669775 ,  0.91468553,\n",
       "       -0.04366873,  1.81260005,  1.02728964, -0.31610149, -0.82800718,\n",
       "       -1.35359534, -0.75335943, -0.59118949,  1.65746694, -2.02029146,\n",
       "        1.46574871, -1.14418908, -0.01979856,  0.08159557, -0.79708698,\n",
       "        0.74049367,  0.92326584, -0.01123274, -0.05593027,  1.54018937,\n",
       "        0.81886412, -0.62970331, -0.62979455, -0.09733021,  0.29788235,\n",
       "        1.26489678, -0.33919618, -0.53359832, -0.07910365, -0.34341075,\n",
       "       -0.69232626, -0.09005864, -1.4931534 , -1.42775201,  0.4742894 ,\n",
       "        0.10223136,  0.5759892 , -1.15037282,  0.81923134,  1.00097885])"
      ]
     },
     "execution_count": 3,
     "metadata": {},
     "output_type": "execute_result"
    }
   ],
   "source": [
    "#Calculating number of positive values for a randomly generated array\n",
    "#Summation value function: sum\n",
    "\n",
    "data = randn(100)\n",
    "data"
   ]
  },
  {
   "cell_type": "code",
   "execution_count": 4,
   "metadata": {},
   "outputs": [
    {
     "data": {
      "text/plain": [
       "43"
      ]
     },
     "execution_count": 4,
     "metadata": {},
     "output_type": "execute_result"
    }
   ],
   "source": [
    "(data > 0).sum()"
   ]
  },
  {
   "cell_type": "code",
   "execution_count": 6,
   "metadata": {},
   "outputs": [
    {
     "data": {
      "text/plain": [
       "True"
      ]
     },
     "execution_count": 6,
     "metadata": {},
     "output_type": "execute_result"
    }
   ],
   "source": [
    "#Any Truth Value Function: any\n",
    "bool_arr.any()"
   ]
  },
  {
   "cell_type": "code",
   "execution_count": 7,
   "metadata": {},
   "outputs": [
    {
     "data": {
      "text/plain": [
       "False"
      ]
     },
     "execution_count": 7,
     "metadata": {},
     "output_type": "execute_result"
    }
   ],
   "source": [
    "#All Truth Values function: all\n",
    "bool_arr.all()"
   ]
  },
  {
   "cell_type": "code",
   "execution_count": 8,
   "metadata": {},
   "outputs": [
    {
     "data": {
      "text/plain": [
       "True"
      ]
     },
     "execution_count": 8,
     "metadata": {},
     "output_type": "execute_result"
    }
   ],
   "source": [
    "#These functions are applicable for non-boolean values where 0 is False while all other values are True\n",
    "data.any()"
   ]
  },
  {
   "cell_type": "code",
   "execution_count": 9,
   "metadata": {},
   "outputs": [
    {
     "data": {
      "text/plain": [
       "True"
      ]
     },
     "execution_count": 9,
     "metadata": {},
     "output_type": "execute_result"
    }
   ],
   "source": [
    "data.all()"
   ]
  }
 ],
 "metadata": {
  "kernelspec": {
   "display_name": "Python 3",
   "language": "python",
   "name": "python3"
  },
  "language_info": {
   "codemirror_mode": {
    "name": "ipython",
    "version": 3
   },
   "file_extension": ".py",
   "mimetype": "text/x-python",
   "name": "python",
   "nbconvert_exporter": "python",
   "pygments_lexer": "ipython3",
   "version": "3.7.4"
  }
 },
 "nbformat": 4,
 "nbformat_minor": 2
}
