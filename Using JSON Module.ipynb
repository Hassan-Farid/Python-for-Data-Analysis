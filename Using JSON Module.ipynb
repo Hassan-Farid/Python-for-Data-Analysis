{
 "cells": [
  {
   "cell_type": "code",
   "execution_count": 36,
   "metadata": {},
   "outputs": [],
   "source": [
    "import json\n",
    "from pandas import DataFrame"
   ]
  },
  {
   "cell_type": "code",
   "execution_count": 27,
   "metadata": {},
   "outputs": [],
   "source": [
    "#JSON stands for Java Script Object Notation\n",
    "#JSON is the standard format for sending data by HTTP requests between web browsers and other applications\n",
    "#We now look at some functionalities of the built-in python json module\n",
    "\n",
    "#First creating a json object\n",
    "\n",
    "obj = \"\"\"\n",
    "{\n",
    "    \"name\":\"Adam Jones\",\n",
    "    \"age\": 25,\n",
    "    \"places_lived\":[\"Pakistan\",\"UAE\",\"USA\"],\n",
    "    \"fields_exp\": [{\"company\":\"Folio3\",\"duration(years)\":2,\"job\":\"Tester\"},\n",
    "                    {\"company\":\"Siemens\",\"duration(years)\":7,\"job\":\"Software Eng\"}]}\n",
    "\"\"\""
   ]
  },
  {
   "cell_type": "code",
   "execution_count": 28,
   "metadata": {},
   "outputs": [],
   "source": [
    "#The above is a json object whose format largely resembles that of python script dictionary\n",
    "#Since json is a text format, thus we have to create its object in a multi-string, otherwise we will get an error that json.loads accepts only str object\n",
    "\n",
    "#Now to load this object we can use the json.loads function\n",
    "json_reader = json.loads(obj)"
   ]
  },
  {
   "cell_type": "code",
   "execution_count": 29,
   "metadata": {},
   "outputs": [
    {
     "data": {
      "text/plain": [
       "{'name': 'Adam Jones',\n",
       " 'age': 25,\n",
       " 'places_lived': ['Pakistan', 'UAE', 'USA'],\n",
       " 'fields_exp': [{'company': 'Folio3', 'duration(years)': 2, 'job': 'Tester'},\n",
       "  {'company': 'Siemens', 'duration(years)': 7, 'job': 'Software Eng'}]}"
      ]
     },
     "execution_count": 29,
     "metadata": {},
     "output_type": "execute_result"
    }
   ],
   "source": [
    "json_reader #To display the data in json object as a python object"
   ]
  },
  {
   "cell_type": "code",
   "execution_count": 30,
   "metadata": {},
   "outputs": [],
   "source": [
    "#We can convert the python object into a json object by using the json.dumps method\n",
    "obj = json.dumps(json_reader)"
   ]
  },
  {
   "cell_type": "code",
   "execution_count": 31,
   "metadata": {},
   "outputs": [
    {
     "data": {
      "text/plain": [
       "'{\"name\": \"Adam Jones\", \"age\": 25, \"places_lived\": [\"Pakistan\", \"UAE\", \"USA\"], \"fields_exp\": [{\"company\": \"Folio3\", \"duration(years)\": 2, \"job\": \"Tester\"}, {\"company\": \"Siemens\", \"duration(years)\": 7, \"job\": \"Software Eng\"}]}'"
      ]
     },
     "execution_count": 31,
     "metadata": {},
     "output_type": "execute_result"
    }
   ],
   "source": [
    "obj #Displaying the json object"
   ]
  },
  {
   "cell_type": "code",
   "execution_count": 32,
   "metadata": {},
   "outputs": [],
   "source": [
    "#We can pass the json data directly to a pandas DataFrame or pass it after converting it into a python object\n",
    "\n",
    "json_df = DataFrame(json_reader['fields_exp'], columns=['company','job','duration(years)'])"
   ]
  },
  {
   "cell_type": "code",
   "execution_count": 33,
   "metadata": {},
   "outputs": [
    {
     "data": {
      "text/html": [
       "<div>\n",
       "<style scoped>\n",
       "    .dataframe tbody tr th:only-of-type {\n",
       "        vertical-align: middle;\n",
       "    }\n",
       "\n",
       "    .dataframe tbody tr th {\n",
       "        vertical-align: top;\n",
       "    }\n",
       "\n",
       "    .dataframe thead th {\n",
       "        text-align: right;\n",
       "    }\n",
       "</style>\n",
       "<table border=\"1\" class=\"dataframe\">\n",
       "  <thead>\n",
       "    <tr style=\"text-align: right;\">\n",
       "      <th></th>\n",
       "      <th>company</th>\n",
       "      <th>job</th>\n",
       "      <th>duration(years)</th>\n",
       "    </tr>\n",
       "  </thead>\n",
       "  <tbody>\n",
       "    <tr>\n",
       "      <th>0</th>\n",
       "      <td>Folio3</td>\n",
       "      <td>Tester</td>\n",
       "      <td>2</td>\n",
       "    </tr>\n",
       "    <tr>\n",
       "      <th>1</th>\n",
       "      <td>Siemens</td>\n",
       "      <td>Software Eng</td>\n",
       "      <td>7</td>\n",
       "    </tr>\n",
       "  </tbody>\n",
       "</table>\n",
       "</div>"
      ],
      "text/plain": [
       "   company           job  duration(years)\n",
       "0   Folio3        Tester                2\n",
       "1  Siemens  Software Eng                7"
      ]
     },
     "execution_count": 33,
     "metadata": {},
     "output_type": "execute_result"
    }
   ],
   "source": [
    "json_df"
   ]
  }
 ],
 "metadata": {
  "kernelspec": {
   "display_name": "Python 3",
   "language": "python",
   "name": "python3"
  },
  "language_info": {
   "codemirror_mode": {
    "name": "ipython",
    "version": 3
   },
   "file_extension": ".py",
   "mimetype": "text/x-python",
   "name": "python",
   "nbconvert_exporter": "python",
   "pygments_lexer": "ipython3",
   "version": "3.8.2"
  }
 },
 "nbformat": 4,
 "nbformat_minor": 4
}
