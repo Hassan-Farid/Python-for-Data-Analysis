{
 "cells": [
  {
   "cell_type": "code",
   "execution_count": 2,
   "metadata": {},
   "outputs": [
    {
     "data": {
      "text/plain": [
       "d    0\n",
       "b    1\n",
       "c    2\n",
       "a    3\n",
       "dtype: int32"
      ]
     },
     "execution_count": 2,
     "metadata": {},
     "output_type": "execute_result"
    }
   ],
   "source": [
    "#Like all data structures, sorting forms an important operation on Series and DataFrames\n",
    "\n",
    "import pandas as pd\n",
    "import numpy as np\n",
    "from pandas import Series, DataFrame\n",
    "\n",
    "series_obj = Series(np.arange(4), index=list('dbca'))\n",
    "series_obj"
   ]
  },
  {
   "cell_type": "code",
   "execution_count": 3,
   "metadata": {},
   "outputs": [
    {
     "data": {
      "text/html": [
       "<div>\n",
       "<style scoped>\n",
       "    .dataframe tbody tr th:only-of-type {\n",
       "        vertical-align: middle;\n",
       "    }\n",
       "\n",
       "    .dataframe tbody tr th {\n",
       "        vertical-align: top;\n",
       "    }\n",
       "\n",
       "    .dataframe thead th {\n",
       "        text-align: right;\n",
       "    }\n",
       "</style>\n",
       "<table border=\"1\" class=\"dataframe\">\n",
       "  <thead>\n",
       "    <tr style=\"text-align: right;\">\n",
       "      <th></th>\n",
       "      <th>b</th>\n",
       "      <th>d</th>\n",
       "      <th>e</th>\n",
       "    </tr>\n",
       "  </thead>\n",
       "  <tbody>\n",
       "    <tr>\n",
       "      <td>First</td>\n",
       "      <td>1.226883</td>\n",
       "      <td>0.381171</td>\n",
       "      <td>1.086009</td>\n",
       "    </tr>\n",
       "    <tr>\n",
       "      <td>Second</td>\n",
       "      <td>-0.314796</td>\n",
       "      <td>-1.600729</td>\n",
       "      <td>-0.378165</td>\n",
       "    </tr>\n",
       "    <tr>\n",
       "      <td>Third</td>\n",
       "      <td>-0.251698</td>\n",
       "      <td>1.965119</td>\n",
       "      <td>0.348131</td>\n",
       "    </tr>\n",
       "    <tr>\n",
       "      <td>Fourth</td>\n",
       "      <td>0.097762</td>\n",
       "      <td>-0.202875</td>\n",
       "      <td>-0.248310</td>\n",
       "    </tr>\n",
       "  </tbody>\n",
       "</table>\n",
       "</div>"
      ],
      "text/plain": [
       "               b         d         e\n",
       "First   1.226883  0.381171  1.086009\n",
       "Second -0.314796 -1.600729 -0.378165\n",
       "Third  -0.251698  1.965119  0.348131\n",
       "Fourth  0.097762 -0.202875 -0.248310"
      ]
     },
     "execution_count": 3,
     "metadata": {},
     "output_type": "execute_result"
    }
   ],
   "source": [
    "frame_obj = DataFrame(np.random.randn(4,3), columns=list('bde'), index=['First','Second','Third','Fourth'])\n",
    "frame_obj"
   ]
  },
  {
   "cell_type": "code",
   "execution_count": 5,
   "metadata": {},
   "outputs": [
    {
     "data": {
      "text/plain": [
       "a    3\n",
       "b    1\n",
       "c    2\n",
       "d    0\n",
       "dtype: int32"
      ]
     },
     "execution_count": 5,
     "metadata": {},
     "output_type": "execute_result"
    }
   ],
   "source": [
    "#Sorting items lexicographically: sort_index\n",
    "#For Series\n",
    "series_obj.sort_index() #sorts the values in increasing order lexicographically"
   ]
  },
  {
   "cell_type": "code",
   "execution_count": 6,
   "metadata": {},
   "outputs": [
    {
     "data": {
      "text/html": [
       "<div>\n",
       "<style scoped>\n",
       "    .dataframe tbody tr th:only-of-type {\n",
       "        vertical-align: middle;\n",
       "    }\n",
       "\n",
       "    .dataframe tbody tr th {\n",
       "        vertical-align: top;\n",
       "    }\n",
       "\n",
       "    .dataframe thead th {\n",
       "        text-align: right;\n",
       "    }\n",
       "</style>\n",
       "<table border=\"1\" class=\"dataframe\">\n",
       "  <thead>\n",
       "    <tr style=\"text-align: right;\">\n",
       "      <th></th>\n",
       "      <th>b</th>\n",
       "      <th>d</th>\n",
       "      <th>e</th>\n",
       "    </tr>\n",
       "  </thead>\n",
       "  <tbody>\n",
       "    <tr>\n",
       "      <td>First</td>\n",
       "      <td>1.226883</td>\n",
       "      <td>0.381171</td>\n",
       "      <td>1.086009</td>\n",
       "    </tr>\n",
       "    <tr>\n",
       "      <td>Fourth</td>\n",
       "      <td>0.097762</td>\n",
       "      <td>-0.202875</td>\n",
       "      <td>-0.248310</td>\n",
       "    </tr>\n",
       "    <tr>\n",
       "      <td>Second</td>\n",
       "      <td>-0.314796</td>\n",
       "      <td>-1.600729</td>\n",
       "      <td>-0.378165</td>\n",
       "    </tr>\n",
       "    <tr>\n",
       "      <td>Third</td>\n",
       "      <td>-0.251698</td>\n",
       "      <td>1.965119</td>\n",
       "      <td>0.348131</td>\n",
       "    </tr>\n",
       "  </tbody>\n",
       "</table>\n",
       "</div>"
      ],
      "text/plain": [
       "               b         d         e\n",
       "First   1.226883  0.381171  1.086009\n",
       "Fourth  0.097762 -0.202875 -0.248310\n",
       "Second -0.314796 -1.600729 -0.378165\n",
       "Third  -0.251698  1.965119  0.348131"
      ]
     },
     "execution_count": 6,
     "metadata": {},
     "output_type": "execute_result"
    }
   ],
   "source": [
    "#For DataFrame\n",
    "frame_obj.sort_index() #sorts the values in columns in increasing order lexicographically"
   ]
  },
  {
   "cell_type": "code",
   "execution_count": 7,
   "metadata": {},
   "outputs": [
    {
     "data": {
      "text/html": [
       "<div>\n",
       "<style scoped>\n",
       "    .dataframe tbody tr th:only-of-type {\n",
       "        vertical-align: middle;\n",
       "    }\n",
       "\n",
       "    .dataframe tbody tr th {\n",
       "        vertical-align: top;\n",
       "    }\n",
       "\n",
       "    .dataframe thead th {\n",
       "        text-align: right;\n",
       "    }\n",
       "</style>\n",
       "<table border=\"1\" class=\"dataframe\">\n",
       "  <thead>\n",
       "    <tr style=\"text-align: right;\">\n",
       "      <th></th>\n",
       "      <th>b</th>\n",
       "      <th>d</th>\n",
       "      <th>e</th>\n",
       "    </tr>\n",
       "  </thead>\n",
       "  <tbody>\n",
       "    <tr>\n",
       "      <td>First</td>\n",
       "      <td>1.226883</td>\n",
       "      <td>0.381171</td>\n",
       "      <td>1.086009</td>\n",
       "    </tr>\n",
       "    <tr>\n",
       "      <td>Second</td>\n",
       "      <td>-0.314796</td>\n",
       "      <td>-1.600729</td>\n",
       "      <td>-0.378165</td>\n",
       "    </tr>\n",
       "    <tr>\n",
       "      <td>Third</td>\n",
       "      <td>-0.251698</td>\n",
       "      <td>1.965119</td>\n",
       "      <td>0.348131</td>\n",
       "    </tr>\n",
       "    <tr>\n",
       "      <td>Fourth</td>\n",
       "      <td>0.097762</td>\n",
       "      <td>-0.202875</td>\n",
       "      <td>-0.248310</td>\n",
       "    </tr>\n",
       "  </tbody>\n",
       "</table>\n",
       "</div>"
      ],
      "text/plain": [
       "               b         d         e\n",
       "First   1.226883  0.381171  1.086009\n",
       "Second -0.314796 -1.600729 -0.378165\n",
       "Third  -0.251698  1.965119  0.348131\n",
       "Fourth  0.097762 -0.202875 -0.248310"
      ]
     },
     "execution_count": 7,
     "metadata": {},
     "output_type": "execute_result"
    }
   ],
   "source": [
    "#By default axis value is 0, we can apply sort function to rows by altering axis to 1\n",
    "frame_obj.sort_index(axis=1)"
   ]
  },
  {
   "cell_type": "code",
   "execution_count": 8,
   "metadata": {},
   "outputs": [
    {
     "data": {
      "text/html": [
       "<div>\n",
       "<style scoped>\n",
       "    .dataframe tbody tr th:only-of-type {\n",
       "        vertical-align: middle;\n",
       "    }\n",
       "\n",
       "    .dataframe tbody tr th {\n",
       "        vertical-align: top;\n",
       "    }\n",
       "\n",
       "    .dataframe thead th {\n",
       "        text-align: right;\n",
       "    }\n",
       "</style>\n",
       "<table border=\"1\" class=\"dataframe\">\n",
       "  <thead>\n",
       "    <tr style=\"text-align: right;\">\n",
       "      <th></th>\n",
       "      <th>e</th>\n",
       "      <th>d</th>\n",
       "      <th>b</th>\n",
       "    </tr>\n",
       "  </thead>\n",
       "  <tbody>\n",
       "    <tr>\n",
       "      <td>First</td>\n",
       "      <td>1.086009</td>\n",
       "      <td>0.381171</td>\n",
       "      <td>1.226883</td>\n",
       "    </tr>\n",
       "    <tr>\n",
       "      <td>Second</td>\n",
       "      <td>-0.378165</td>\n",
       "      <td>-1.600729</td>\n",
       "      <td>-0.314796</td>\n",
       "    </tr>\n",
       "    <tr>\n",
       "      <td>Third</td>\n",
       "      <td>0.348131</td>\n",
       "      <td>1.965119</td>\n",
       "      <td>-0.251698</td>\n",
       "    </tr>\n",
       "    <tr>\n",
       "      <td>Fourth</td>\n",
       "      <td>-0.248310</td>\n",
       "      <td>-0.202875</td>\n",
       "      <td>0.097762</td>\n",
       "    </tr>\n",
       "  </tbody>\n",
       "</table>\n",
       "</div>"
      ],
      "text/plain": [
       "               e         d         b\n",
       "First   1.086009  0.381171  1.226883\n",
       "Second -0.378165 -1.600729 -0.314796\n",
       "Third   0.348131  1.965119 -0.251698\n",
       "Fourth -0.248310 -0.202875  0.097762"
      ]
     },
     "execution_count": 8,
     "metadata": {},
     "output_type": "execute_result"
    }
   ],
   "source": [
    "#By default data is sorted in ascending order, for descending we simply give the function a False value\n",
    "frame_obj.sort_index(axis = 1, ascending=False)"
   ]
  },
  {
   "cell_type": "code",
   "execution_count": 16,
   "metadata": {},
   "outputs": [
    {
     "data": {
      "text/plain": [
       "3    -3.4\n",
       "5     0.0\n",
       "0     5.0\n",
       "2     5.3\n",
       "1    23.0\n",
       "4     NaN\n",
       "dtype: float64"
      ]
     },
     "execution_count": 16,
     "metadata": {},
     "output_type": "execute_result"
    }
   ],
   "source": [
    "#Sorting by values : sort_values\n",
    "#For Series: \n",
    "#In case of Series, we use the sort_value method to sort the Series by its values\n",
    "series_obj2 = Series([5,23,5.3,-3.4,np.nan,0])\n",
    "series_obj2.sort_values() #Sets the NaN values to the bottom"
   ]
  },
  {
   "cell_type": "code",
   "execution_count": 17,
   "metadata": {},
   "outputs": [
    {
     "data": {
      "text/html": [
       "<div>\n",
       "<style scoped>\n",
       "    .dataframe tbody tr th:only-of-type {\n",
       "        vertical-align: middle;\n",
       "    }\n",
       "\n",
       "    .dataframe tbody tr th {\n",
       "        vertical-align: top;\n",
       "    }\n",
       "\n",
       "    .dataframe thead th {\n",
       "        text-align: right;\n",
       "    }\n",
       "</style>\n",
       "<table border=\"1\" class=\"dataframe\">\n",
       "  <thead>\n",
       "    <tr style=\"text-align: right;\">\n",
       "      <th></th>\n",
       "      <th>b</th>\n",
       "      <th>d</th>\n",
       "      <th>e</th>\n",
       "    </tr>\n",
       "  </thead>\n",
       "  <tbody>\n",
       "    <tr>\n",
       "      <td>First</td>\n",
       "      <td>1.226883</td>\n",
       "      <td>0.381171</td>\n",
       "      <td>1.086009</td>\n",
       "    </tr>\n",
       "    <tr>\n",
       "      <td>Second</td>\n",
       "      <td>-0.314796</td>\n",
       "      <td>-1.600729</td>\n",
       "      <td>-0.378165</td>\n",
       "    </tr>\n",
       "    <tr>\n",
       "      <td>Third</td>\n",
       "      <td>-0.251698</td>\n",
       "      <td>1.965119</td>\n",
       "      <td>0.348131</td>\n",
       "    </tr>\n",
       "    <tr>\n",
       "      <td>Fourth</td>\n",
       "      <td>0.097762</td>\n",
       "      <td>-0.202875</td>\n",
       "      <td>-0.248310</td>\n",
       "    </tr>\n",
       "  </tbody>\n",
       "</table>\n",
       "</div>"
      ],
      "text/plain": [
       "               b         d         e\n",
       "First   1.226883  0.381171  1.086009\n",
       "Second -0.314796 -1.600729 -0.378165\n",
       "Third  -0.251698  1.965119  0.348131\n",
       "Fourth  0.097762 -0.202875 -0.248310"
      ]
     },
     "execution_count": 17,
     "metadata": {},
     "output_type": "execute_result"
    }
   ],
   "source": [
    "#For DataFrame: by\n",
    "#In case of DataFrame, we use the by argument in sort_values to sort by values\n",
    "frame_obj"
   ]
  },
  {
   "cell_type": "code",
   "execution_count": 18,
   "metadata": {},
   "outputs": [
    {
     "data": {
      "text/html": [
       "<div>\n",
       "<style scoped>\n",
       "    .dataframe tbody tr th:only-of-type {\n",
       "        vertical-align: middle;\n",
       "    }\n",
       "\n",
       "    .dataframe tbody tr th {\n",
       "        vertical-align: top;\n",
       "    }\n",
       "\n",
       "    .dataframe thead th {\n",
       "        text-align: right;\n",
       "    }\n",
       "</style>\n",
       "<table border=\"1\" class=\"dataframe\">\n",
       "  <thead>\n",
       "    <tr style=\"text-align: right;\">\n",
       "      <th></th>\n",
       "      <th>b</th>\n",
       "      <th>d</th>\n",
       "      <th>e</th>\n",
       "    </tr>\n",
       "  </thead>\n",
       "  <tbody>\n",
       "    <tr>\n",
       "      <td>Second</td>\n",
       "      <td>-0.314796</td>\n",
       "      <td>-1.600729</td>\n",
       "      <td>-0.378165</td>\n",
       "    </tr>\n",
       "    <tr>\n",
       "      <td>Third</td>\n",
       "      <td>-0.251698</td>\n",
       "      <td>1.965119</td>\n",
       "      <td>0.348131</td>\n",
       "    </tr>\n",
       "    <tr>\n",
       "      <td>Fourth</td>\n",
       "      <td>0.097762</td>\n",
       "      <td>-0.202875</td>\n",
       "      <td>-0.248310</td>\n",
       "    </tr>\n",
       "    <tr>\n",
       "      <td>First</td>\n",
       "      <td>1.226883</td>\n",
       "      <td>0.381171</td>\n",
       "      <td>1.086009</td>\n",
       "    </tr>\n",
       "  </tbody>\n",
       "</table>\n",
       "</div>"
      ],
      "text/plain": [
       "               b         d         e\n",
       "Second -0.314796 -1.600729 -0.378165\n",
       "Third  -0.251698  1.965119  0.348131\n",
       "Fourth  0.097762 -0.202875 -0.248310\n",
       "First   1.226883  0.381171  1.086009"
      ]
     },
     "execution_count": 18,
     "metadata": {},
     "output_type": "execute_result"
    }
   ],
   "source": [
    "frame_obj.sort_values(by= 'b') #Sorts values by column b"
   ]
  },
  {
   "cell_type": "code",
   "execution_count": 21,
   "metadata": {},
   "outputs": [
    {
     "data": {
      "text/html": [
       "<div>\n",
       "<style scoped>\n",
       "    .dataframe tbody tr th:only-of-type {\n",
       "        vertical-align: middle;\n",
       "    }\n",
       "\n",
       "    .dataframe tbody tr th {\n",
       "        vertical-align: top;\n",
       "    }\n",
       "\n",
       "    .dataframe thead th {\n",
       "        text-align: right;\n",
       "    }\n",
       "</style>\n",
       "<table border=\"1\" class=\"dataframe\">\n",
       "  <thead>\n",
       "    <tr style=\"text-align: right;\">\n",
       "      <th></th>\n",
       "      <th>b</th>\n",
       "      <th>d</th>\n",
       "      <th>e</th>\n",
       "    </tr>\n",
       "  </thead>\n",
       "  <tbody>\n",
       "    <tr>\n",
       "      <td>Second</td>\n",
       "      <td>-0.314796</td>\n",
       "      <td>-1.600729</td>\n",
       "      <td>-0.378165</td>\n",
       "    </tr>\n",
       "    <tr>\n",
       "      <td>Fourth</td>\n",
       "      <td>0.097762</td>\n",
       "      <td>-0.202875</td>\n",
       "      <td>-0.248310</td>\n",
       "    </tr>\n",
       "    <tr>\n",
       "      <td>First</td>\n",
       "      <td>1.226883</td>\n",
       "      <td>0.381171</td>\n",
       "      <td>1.086009</td>\n",
       "    </tr>\n",
       "    <tr>\n",
       "      <td>Third</td>\n",
       "      <td>-0.251698</td>\n",
       "      <td>1.965119</td>\n",
       "      <td>0.348131</td>\n",
       "    </tr>\n",
       "  </tbody>\n",
       "</table>\n",
       "</div>"
      ],
      "text/plain": [
       "               b         d         e\n",
       "Second -0.314796 -1.600729 -0.378165\n",
       "Fourth  0.097762 -0.202875 -0.248310\n",
       "First   1.226883  0.381171  1.086009\n",
       "Third  -0.251698  1.965119  0.348131"
      ]
     },
     "execution_count": 21,
     "metadata": {},
     "output_type": "execute_result"
    }
   ],
   "source": [
    "#For multiple columns we pass the list of columns to the function\n",
    "frame_obj.sort_values(by = ['d','e'])"
   ]
  },
  {
   "cell_type": "code",
   "execution_count": 33,
   "metadata": {},
   "outputs": [
    {
     "data": {
      "text/plain": [
       "0     2.0\n",
       "1     7.2\n",
       "2     1.3\n",
       "3     5.0\n",
       "4    -2.5\n",
       "5     7.2\n",
       "6    11.0\n",
       "dtype: float64"
      ]
     },
     "execution_count": 33,
     "metadata": {},
     "output_type": "execute_result"
    }
   ],
   "source": [
    "#Ranking in Pandas Structures\n",
    "\n",
    "#For Series\n",
    "series_obj3 = Series([2,7.2,1.3,5,-2.5,7.2,11])\n",
    "series_obj3"
   ]
  },
  {
   "cell_type": "code",
   "execution_count": 34,
   "metadata": {},
   "outputs": [
    {
     "data": {
      "text/plain": [
       "0    3.0\n",
       "1    5.5\n",
       "2    2.0\n",
       "3    4.0\n",
       "4    1.0\n",
       "5    5.5\n",
       "6    7.0\n",
       "dtype: float64"
      ]
     },
     "execution_count": 34,
     "metadata": {},
     "output_type": "execute_result"
    }
   ],
   "source": [
    "#Rank is set on by default average value \n",
    "series_obj3.rank() "
   ]
  },
  {
   "cell_type": "code",
   "execution_count": 36,
   "metadata": {},
   "outputs": [
    {
     "data": {
      "text/plain": [
       "0    3.0\n",
       "1    5.0\n",
       "2    2.0\n",
       "3    4.0\n",
       "4    1.0\n",
       "5    6.0\n",
       "6    7.0\n",
       "dtype: float64"
      ]
     },
     "execution_count": 36,
     "metadata": {},
     "output_type": "execute_result"
    }
   ],
   "source": [
    "#Finding rank based on order of observed data\n",
    "series_obj3.rank(method='first')"
   ]
  },
  {
   "cell_type": "code",
   "execution_count": 37,
   "metadata": {},
   "outputs": [
    {
     "data": {
      "text/plain": [
       "0    3.0\n",
       "1    6.0\n",
       "2    2.0\n",
       "3    4.0\n",
       "4    1.0\n",
       "5    6.0\n",
       "6    7.0\n",
       "dtype: float64"
      ]
     },
     "execution_count": 37,
     "metadata": {},
     "output_type": "execute_result"
    }
   ],
   "source": [
    "#Finding rank based on highest rank in the group\n",
    "series_obj3.rank(method='max')"
   ]
  },
  {
   "cell_type": "code",
   "execution_count": 38,
   "metadata": {},
   "outputs": [
    {
     "data": {
      "text/plain": [
       "0    3.0\n",
       "1    5.0\n",
       "2    2.0\n",
       "3    4.0\n",
       "4    1.0\n",
       "5    5.0\n",
       "6    7.0\n",
       "dtype: float64"
      ]
     },
     "execution_count": 38,
     "metadata": {},
     "output_type": "execute_result"
    }
   ],
   "source": [
    "#Finding rank based on lowest rank in the group\n",
    "series_obj3.rank(method='min')"
   ]
  },
  {
   "cell_type": "code",
   "execution_count": 39,
   "metadata": {},
   "outputs": [
    {
     "data": {
      "text/plain": [
       "0    5.0\n",
       "1    2.0\n",
       "2    6.0\n",
       "3    4.0\n",
       "4    7.0\n",
       "5    3.0\n",
       "6    1.0\n",
       "dtype: float64"
      ]
     },
     "execution_count": 39,
     "metadata": {},
     "output_type": "execute_result"
    }
   ],
   "source": [
    "#By default,rank is listed based on ascending order.For descending order:\n",
    "series_obj3.rank(method='first',ascending=False)"
   ]
  },
  {
   "cell_type": "code",
   "execution_count": 42,
   "metadata": {},
   "outputs": [
    {
     "data": {
      "text/html": [
       "<div>\n",
       "<style scoped>\n",
       "    .dataframe tbody tr th:only-of-type {\n",
       "        vertical-align: middle;\n",
       "    }\n",
       "\n",
       "    .dataframe tbody tr th {\n",
       "        vertical-align: top;\n",
       "    }\n",
       "\n",
       "    .dataframe thead th {\n",
       "        text-align: right;\n",
       "    }\n",
       "</style>\n",
       "<table border=\"1\" class=\"dataframe\">\n",
       "  <thead>\n",
       "    <tr style=\"text-align: right;\">\n",
       "      <th></th>\n",
       "      <th>b</th>\n",
       "      <th>d</th>\n",
       "      <th>e</th>\n",
       "    </tr>\n",
       "  </thead>\n",
       "  <tbody>\n",
       "    <tr>\n",
       "      <td>First</td>\n",
       "      <td>4.0</td>\n",
       "      <td>3.0</td>\n",
       "      <td>4.0</td>\n",
       "    </tr>\n",
       "    <tr>\n",
       "      <td>Second</td>\n",
       "      <td>1.0</td>\n",
       "      <td>1.0</td>\n",
       "      <td>1.0</td>\n",
       "    </tr>\n",
       "    <tr>\n",
       "      <td>Third</td>\n",
       "      <td>2.0</td>\n",
       "      <td>4.0</td>\n",
       "      <td>3.0</td>\n",
       "    </tr>\n",
       "    <tr>\n",
       "      <td>Fourth</td>\n",
       "      <td>3.0</td>\n",
       "      <td>2.0</td>\n",
       "      <td>2.0</td>\n",
       "    </tr>\n",
       "  </tbody>\n",
       "</table>\n",
       "</div>"
      ],
      "text/plain": [
       "          b    d    e\n",
       "First   4.0  3.0  4.0\n",
       "Second  1.0  1.0  1.0\n",
       "Third   2.0  4.0  3.0\n",
       "Fourth  3.0  2.0  2.0"
      ]
     },
     "execution_count": 42,
     "metadata": {},
     "output_type": "execute_result"
    }
   ],
   "source": [
    "#In case of DataFrame we just pass the axis value for row or column\n",
    "frame_obj.rank(method='first')"
   ]
  },
  {
   "cell_type": "code",
   "execution_count": 43,
   "metadata": {},
   "outputs": [
    {
     "data": {
      "text/html": [
       "<div>\n",
       "<style scoped>\n",
       "    .dataframe tbody tr th:only-of-type {\n",
       "        vertical-align: middle;\n",
       "    }\n",
       "\n",
       "    .dataframe tbody tr th {\n",
       "        vertical-align: top;\n",
       "    }\n",
       "\n",
       "    .dataframe thead th {\n",
       "        text-align: right;\n",
       "    }\n",
       "</style>\n",
       "<table border=\"1\" class=\"dataframe\">\n",
       "  <thead>\n",
       "    <tr style=\"text-align: right;\">\n",
       "      <th></th>\n",
       "      <th>b</th>\n",
       "      <th>d</th>\n",
       "      <th>e</th>\n",
       "    </tr>\n",
       "  </thead>\n",
       "  <tbody>\n",
       "    <tr>\n",
       "      <td>First</td>\n",
       "      <td>1.0</td>\n",
       "      <td>3.0</td>\n",
       "      <td>2.0</td>\n",
       "    </tr>\n",
       "    <tr>\n",
       "      <td>Second</td>\n",
       "      <td>1.0</td>\n",
       "      <td>3.0</td>\n",
       "      <td>2.0</td>\n",
       "    </tr>\n",
       "    <tr>\n",
       "      <td>Third</td>\n",
       "      <td>3.0</td>\n",
       "      <td>1.0</td>\n",
       "      <td>2.0</td>\n",
       "    </tr>\n",
       "    <tr>\n",
       "      <td>Fourth</td>\n",
       "      <td>1.0</td>\n",
       "      <td>2.0</td>\n",
       "      <td>3.0</td>\n",
       "    </tr>\n",
       "  </tbody>\n",
       "</table>\n",
       "</div>"
      ],
      "text/plain": [
       "          b    d    e\n",
       "First   1.0  3.0  2.0\n",
       "Second  1.0  3.0  2.0\n",
       "Third   3.0  1.0  2.0\n",
       "Fourth  1.0  2.0  3.0"
      ]
     },
     "execution_count": 43,
     "metadata": {},
     "output_type": "execute_result"
    }
   ],
   "source": [
    "frame_obj.rank(method='min',ascending=False,axis=1)"
   ]
  }
 ],
 "metadata": {
  "kernelspec": {
   "display_name": "Python 3",
   "language": "python",
   "name": "python3"
  },
  "language_info": {
   "codemirror_mode": {
    "name": "ipython",
    "version": 3
   },
   "file_extension": ".py",
   "mimetype": "text/x-python",
   "name": "python",
   "nbconvert_exporter": "python",
   "pygments_lexer": "ipython3",
   "version": "3.7.4"
  }
 },
 "nbformat": 4,
 "nbformat_minor": 2
}
