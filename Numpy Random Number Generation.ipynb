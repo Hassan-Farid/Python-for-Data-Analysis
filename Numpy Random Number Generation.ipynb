{
 "cells": [
  {
   "cell_type": "code",
   "execution_count": 1,
   "metadata": {},
   "outputs": [],
   "source": [
    "#Numpy can be used to generate random values for a ceratin array elements\n",
    "#This generates sample values for arrays from many kinds of probability distributions\n",
    "\n",
    "import numpy as np\n",
    "import numpy.random\n"
   ]
  },
  {
   "cell_type": "code",
   "execution_count": 2,
   "metadata": {},
   "outputs": [],
   "source": [
    "#Seeds random number generator(gives initial value to random generator to create all random values): seed\n",
    "np.random.seed(1)"
   ]
  },
  {
   "cell_type": "code",
   "execution_count": 13,
   "metadata": {},
   "outputs": [
    {
     "data": {
      "text/plain": [
       "array([0.51815255, 0.86502025, 0.82914691, 0.82960336, 0.27304997,\n",
       "       0.0592432 , 0.67052804, 0.59306552, 0.6716541 , 0.41178788])"
      ]
     },
     "execution_count": 13,
     "metadata": {},
     "output_type": "execute_result"
    }
   ],
   "source": [
    "#Random sample from Uniform Distribution: rand\n",
    "X = np.random.rand(10)\n",
    "X"
   ]
  },
  {
   "cell_type": "code",
   "execution_count": 16,
   "metadata": {},
   "outputs": [
    {
     "data": {
      "text/plain": [
       "8"
      ]
     },
     "execution_count": 16,
     "metadata": {},
     "output_type": "execute_result"
    }
   ],
   "source": [
    "#Random integer sample from given low to high range: randint\n",
    "X2 = np.random.randint(1,11)\n",
    "X2"
   ]
  },
  {
   "cell_type": "code",
   "execution_count": 31,
   "metadata": {},
   "outputs": [
    {
     "data": {
      "text/plain": [
       "array([-0.93786433, -1.3856563 , -0.33888054, -0.17925544, -0.24094727,\n",
       "       -0.24769856, -0.16851994,  0.57370922, -0.95677318, -0.65152255])"
      ]
     },
     "execution_count": 31,
     "metadata": {},
     "output_type": "execute_result"
    }
   ],
   "source": [
    "#Random sample from Normal Distribution with mean = 0 and Std = 1: randn\n",
    "X3 = np.random.randn(10)\n",
    "X3"
   ]
  },
  {
   "cell_type": "code",
   "execution_count": 32,
   "metadata": {},
   "outputs": [
    {
     "data": {
      "text/plain": [
       "array([3, 2, 2, 1, 0, 2, 2, 1, 1, 0, 0, 1, 0, 2, 1, 0, 2, 0, 0, 0, 0, 1,\n",
       "       0, 0, 3, 1, 2, 1, 0, 1, 1, 2, 0, 1, 1, 1, 2, 1, 2, 0, 0, 2, 0, 0,\n",
       "       0, 1, 2, 1, 1, 0, 1, 0, 1, 0, 1, 3, 0, 1, 0, 1, 2, 1, 0, 1, 2, 0,\n",
       "       0, 3, 1, 0, 1, 0, 3, 0, 3, 0, 0, 2, 0, 2, 1, 0, 1, 0, 0, 0, 1, 1,\n",
       "       2, 2, 0, 0, 0, 0, 1, 0, 1, 1, 0, 0])"
      ]
     },
     "execution_count": 32,
     "metadata": {},
     "output_type": "execute_result"
    }
   ],
   "source": [
    "#Random sample from Binomial Distribution: binomial\n",
    "X4 = np.random.binomial(10,0.10,100)\n",
    "X4"
   ]
  },
  {
   "cell_type": "code",
   "execution_count": 33,
   "metadata": {},
   "outputs": [
    {
     "data": {
      "text/plain": [
       "10.176001143769438"
      ]
     },
     "execution_count": 33,
     "metadata": {},
     "output_type": "execute_result"
    }
   ],
   "source": [
    "#Random sample from Gaussian Distribution: normal\n",
    "X5 = np.random.normal(10)\n",
    "X5"
   ]
  },
  {
   "cell_type": "code",
   "execution_count": 36,
   "metadata": {},
   "outputs": [
    {
     "data": {
      "text/plain": [
       "0.35084536799172106"
      ]
     },
     "execution_count": 36,
     "metadata": {},
     "output_type": "execute_result"
    }
   ],
   "source": [
    "#Random sample from Beta Distribution: beta\n",
    "X6 = np.random.beta(10,10)\n",
    "X6"
   ]
  },
  {
   "cell_type": "code",
   "execution_count": 37,
   "metadata": {},
   "outputs": [
    {
     "data": {
      "text/plain": [
       "7.616863289989834"
      ]
     },
     "execution_count": 37,
     "metadata": {},
     "output_type": "execute_result"
    }
   ],
   "source": [
    "#Random sample from Chi-square Distribution: chisquare\n",
    "X7 = np.random.chisquare(10)\n",
    "X7"
   ]
  },
  {
   "cell_type": "code",
   "execution_count": 39,
   "metadata": {},
   "outputs": [
    {
     "data": {
      "text/plain": [
       "6.390743513572102"
      ]
     },
     "execution_count": 39,
     "metadata": {},
     "output_type": "execute_result"
    }
   ],
   "source": [
    "#Random sample from Gamma Distribution: gamma\n",
    "X8 = np.random.gamma(10)\n",
    "X8"
   ]
  },
  {
   "cell_type": "code",
   "execution_count": 40,
   "metadata": {},
   "outputs": [
    {
     "data": {
      "text/plain": [
       "9.910002476795643"
      ]
     },
     "execution_count": 40,
     "metadata": {},
     "output_type": "execute_result"
    }
   ],
   "source": [
    "#Random sample from uniform [0,1) Distribution: uniform\n",
    "X9 = np.random.uniform(10)\n",
    "X9"
   ]
  },
  {
   "cell_type": "code",
   "execution_count": 45,
   "metadata": {},
   "outputs": [
    {
     "data": {
      "text/plain": [
       "array([[ 0.3743189 , -1.84955116, -0.27810508,  0.31784693],\n",
       "       [-0.35876103, -0.04193944,  1.25794105,  0.62834995],\n",
       "       [-1.00292632,  0.78797796, -1.05711954,  0.54215727],\n",
       "       [ 0.91940949,  0.05073418,  1.20135336, -0.08601853]])"
      ]
     },
     "execution_count": 45,
     "metadata": {},
     "output_type": "execute_result"
    }
   ],
   "source": [
    "#In most functions stated above, we can use the size argument to tell the size of sample we want to generate\n",
    "X10 = np.random.normal(size = (4,4))\n",
    "X10"
   ]
  },
  {
   "cell_type": "code",
   "execution_count": 52,
   "metadata": {},
   "outputs": [
    {
     "data": {
      "text/plain": [
       "array([[1.96225376, 0.77559961],\n",
       "       [0.09694872, 2.57011088],\n",
       "       [2.84800908, 1.04277678],\n",
       "       [2.43705663, 1.76068542],\n",
       "       [6.98429186, 0.72446192]])"
      ]
     },
     "execution_count": 52,
     "metadata": {},
     "output_type": "execute_result"
    }
   ],
   "source": [
    "X11 = np.random.gamma(shape = 1 , scale = 2, size = (5,2))\n",
    "X11"
   ]
  },
  {
   "cell_type": "code",
   "execution_count": 60,
   "metadata": {},
   "outputs": [
    {
     "data": {
      "text/plain": [
       "array([[2.84800908, 1.04277678],\n",
       "       [0.09694872, 2.57011088],\n",
       "       [1.96225376, 0.77559961],\n",
       "       [2.43705663, 1.76068542],\n",
       "       [6.98429186, 0.72446192]])"
      ]
     },
     "execution_count": 60,
     "metadata": {},
     "output_type": "execute_result"
    }
   ],
   "source": [
    "#Random Permutation function: permutation\n",
    "X12 = np.random.permutation(X11)\n",
    "X12"
   ]
  },
  {
   "cell_type": "code",
   "execution_count": 61,
   "metadata": {},
   "outputs": [
    {
     "data": {
      "text/plain": [
       "array([[2.43705663, 1.76068542],\n",
       "       [1.96225376, 0.77559961],\n",
       "       [2.84800908, 1.04277678],\n",
       "       [6.98429186, 0.72446192],\n",
       "       [0.09694872, 2.57011088]])"
      ]
     },
     "execution_count": 61,
     "metadata": {},
     "output_type": "execute_result"
    }
   ],
   "source": [
    "#Random Shuffling function: shuffle\n",
    "np.random.shuffle(X11)\n",
    "X11"
   ]
  }
 ],
 "metadata": {
  "kernelspec": {
   "display_name": "Python 3",
   "language": "python",
   "name": "python3"
  },
  "language_info": {
   "codemirror_mode": {
    "name": "ipython",
    "version": 3
   },
   "file_extension": ".py",
   "mimetype": "text/x-python",
   "name": "python",
   "nbconvert_exporter": "python",
   "pygments_lexer": "ipython3",
   "version": "3.7.4"
  }
 },
 "nbformat": 4,
 "nbformat_minor": 2
}
